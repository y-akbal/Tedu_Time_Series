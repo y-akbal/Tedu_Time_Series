{
 "cells": [
  {
   "cell_type": "markdown",
   "id": "0e5cb897",
   "metadata": {},
   "source": [
    "[![Open in Colab](https://colab.research.google.com/assets/colab-badge.svg)](https://colab.research.google.com/github/y-akbal/Tedu_Time_Series/blob/main/W12/Practice2.ipynb)"
   ]
  },
  {
   "cell_type": "code",
   "execution_count": 4,
   "id": "55a14402",
   "metadata": {},
   "outputs": [],
   "source": [
    "import pandas as pd\n",
    "import os"
   ]
  },
  {
   "cell_type": "code",
   "execution_count": 2,
   "id": "5b507b40",
   "metadata": {},
   "outputs": [
    {
     "name": "stdout",
     "output_type": "stream",
     "text": [
      "Dataset downloaded!, the name of the time series is: data_german.csv\n"
     ]
    }
   ],
   "source": [
    "def download_ts():  ### This dude will download the dataset from the directory directly!\n",
    "  import requests\n",
    "  url = \"https://raw.githubusercontent.com/y-akbal/Tedu_Time_Series/main/W12/data_german.csv\"\n",
    "  res = requests.get(url, allow_redirects=True)\n",
    "  with open('data_german.csv','wb') as file:\n",
    "    file.write(res.content)\n",
    "  print(\"Dataset downloaded!, the name of the time series is: data_german.csv\")\n",
    "download_ts()"
   ]
  },
  {
   "cell_type": "code",
   "execution_count": 5,
   "id": "d0ccd46e",
   "metadata": {},
   "outputs": [
    {
     "data": {
      "text/plain": [
       "['.ipynb_checkpoints',\n",
       " 'ArchGarch_Model.ipynb',\n",
       " 'data_german.csv',\n",
       " 'Index2018.csv',\n",
       " 'Practice.ipynb',\n",
       " 'time_series_lecture1.ipynb']"
      ]
     },
     "execution_count": 5,
     "metadata": {},
     "output_type": "execute_result"
    }
   ],
   "source": [
    "os.listdir()"
   ]
  },
  {
   "cell_type": "code",
   "execution_count": 34,
   "id": "b5aef594",
   "metadata": {},
   "outputs": [],
   "source": [
    "data = pd.read_csv(\"data.csv\").iloc[:5000,-1]\n",
    "train = data[:4000]\n",
    "test = data[4000:]"
   ]
  }
 ],
 "metadata": {
  "kernelspec": {
   "display_name": "Python 3 (ipykernel)",
   "language": "python",
   "name": "python3"
  },
  "language_info": {
   "codemirror_mode": {
    "name": "ipython",
    "version": 3
   },
   "file_extension": ".py",
   "mimetype": "text/x-python",
   "name": "python",
   "nbconvert_exporter": "python",
   "pygments_lexer": "ipython3",
   "version": "3.9.12"
  }
 },
 "nbformat": 4,
 "nbformat_minor": 5
}
