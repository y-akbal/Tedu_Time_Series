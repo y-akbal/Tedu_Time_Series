{
  "cells": [
    {
      "cell_type": "markdown",
      "id": "1fcc84a2",
      "metadata": {
        "id": "1fcc84a2"
      },
      "source": [
        "\n",
        "[![Open in Colab](https://colab.research.google.com/assets/colab-badge.svg)](https://colab.research.google.com/github/y-akbal/Tedu_Time_Series/blob/main/W10/W10P2.ipynb)\n",
        "\n",
        "\n"
      ]
    },
    {
      "cell_type": "code",
      "execution_count": null,
      "id": "74c8b926",
      "metadata": {
        "id": "74c8b926"
      },
      "outputs": [],
      "source": [
        "import pandas as pd\n",
        "import os\n",
        "import seaborn as sns\n",
        "import matplotlib.pyplot as plt\n",
        "import numpy as np\n",
        "import pandas as pd\n",
        "import statsmodels\n",
        "import scipy"
      ]
    },
    {
      "cell_type": "code",
      "execution_count": null,
      "id": "c82b2387",
      "metadata": {
        "id": "c82b2387"
      },
      "outputs": [],
      "source": [
        "def download_data():  ### This dude will download the dataset from the directory directly!\n",
        "  import requests\n",
        "  url = \"https://raw.githubusercontent.com/y-akbal/Tedu_Time_Series/main/W10/USDTRY=X.csv\"\n",
        "  res = requests.get(url, allow_redirects=True)\n",
        "  with open('USDTRY=X.csv','wb') as file:\n",
        "    file.write(res.content)\n",
        "\n",
        "download_data()  "
      ]
    },
    {
      "cell_type": "code",
      "execution_count": null,
      "id": "5e674975",
      "metadata": {
        "id": "5e674975"
      },
      "outputs": [],
      "source": [
        "data = pd.read_csv(\"USDTRY=X.csv\")[\"Close\"]"
      ]
    },
    {
      "cell_type": "code",
      "execution_count": null,
      "id": "05c6bb77",
      "metadata": {
        "id": "05c6bb77",
        "outputId": "cf842f5a-1afa-4607-86df-6c071475716b"
      },
      "outputs": [
        {
          "data": {
            "text/plain": [
              "[<matplotlib.lines.Line2D at 0x23b13561d00>]"
            ]
          },
          "execution_count": 36,
          "metadata": {},
          "output_type": "execute_result"
        },
        {
          "data": {
            "image/png": "[encoded data removed]",
            "text/plain": [
              "<Figure size 432x288 with 1 Axes>"
            ]
          },
          "metadata": {
            "needs_background": "light"
          },
          "output_type": "display_data"
        }
      ],
      "source": [
        "plt.plot(data)"
      ]
    },
    {
      "cell_type": "code",
      "execution_count": null,
      "id": "42d9f4a2",
      "metadata": {
        "id": "42d9f4a2"
      },
      "outputs": [],
      "source": [
        "data = data.interpolate()"
      ]
    },
    {
      "cell_type": "code",
      "execution_count": null,
      "id": "2c740d3f",
      "metadata": {
        "id": "2c740d3f"
      },
      "outputs": [],
      "source": [
        "log_ = lambda x: np.log(x+1)"
      ]
    },
    {
      "cell_type": "code",
      "execution_count": null,
      "id": "c2c7ac48",
      "metadata": {
        "id": "c2c7ac48"
      },
      "outputs": [],
      "source": [
        "data = data.apply(log_)"
      ]
    },
    {
      "cell_type": "code",
      "execution_count": null,
      "id": "0aaeae5e",
      "metadata": {
        "id": "0aaeae5e",
        "outputId": "266d22b1-0c7f-4d50-f593-976c4b5c0cf2"
      },
      "outputs": [
        {
          "data": {
            "text/plain": [
              "[<matplotlib.lines.Line2D at 0x23b1171cbb0>]"
            ]
          },
          "execution_count": 40,
          "metadata": {},
          "output_type": "execute_result"
        },
        {
          "data": {
            "image/png": "[encoded data removed]",
            "text/plain": [
              "<Figure size 432x288 with 1 Axes>"
            ]
          },
          "metadata": {
            "needs_background": "light"
          },
          "output_type": "display_data"
        }
      ],
      "source": [
        "plt.plot(data)"
      ]
    },
    {
      "cell_type": "code",
      "execution_count": null,
      "id": "37cf37c1",
      "metadata": {
        "id": "37cf37c1",
        "outputId": "7887a6e3-51b6-4e45-93cf-2ad9c147290b"
      },
      "outputs": [
        {
          "data": {
            "text/plain": [
              "0       1.364910\n",
              "1       1.362360\n",
              "2       1.362207\n",
              "3       1.366115\n",
              "4       1.364023\n",
              "          ...   \n",
              "1801    2.975560\n",
              "1802    2.976147\n",
              "1803    2.975989\n",
              "1804    2.976896\n",
              "1805    2.977012\n",
              "Name: Close, Length: 1806, dtype: float64"
            ]
          },
          "execution_count": 41,
          "metadata": {},
          "output_type": "execute_result"
        }
      ],
      "source": [
        "data"
      ]
    },
    {
      "cell_type": "code",
      "execution_count": null,
      "id": "0b6d9010",
      "metadata": {
        "id": "0b6d9010",
        "outputId": "5f2c1fd6-e766-41dd-84e9-2ff455bac55c"
      },
      "outputs": [
        {
          "data": {
            "text/plain": [
              "(1.0399509815575358,\n",
              " 0.9946700933504365,\n",
              " 24,\n",
              " 1781,\n",
              " {'1%': -3.43402700734663,\n",
              "  '5%': -2.8631641942387542,\n",
              "  '10%': -2.56763466996284},\n",
              " -10862.407853066483)"
            ]
          },
          "execution_count": 42,
          "metadata": {},
          "output_type": "execute_result"
        }
      ],
      "source": [
        "from statsmodels.tsa.stattools import adfuller\n",
        "adfuller(data)"
      ]
    },
    {
      "cell_type": "code",
      "execution_count": null,
      "id": "bdf4c4dc",
      "metadata": {
        "id": "bdf4c4dc"
      },
      "outputs": [],
      "source": [
        "data_ = data.diff()[1:]"
      ]
    },
    {
      "cell_type": "code",
      "execution_count": null,
      "id": "06702499",
      "metadata": {
        "id": "06702499",
        "outputId": "d727555c-a094-4460-ba88-ba1526033b76"
      },
      "outputs": [
        {
          "data": {
            "text/plain": [
              "[<matplotlib.lines.Line2D at 0x23b1468ca30>]"
            ]
          },
          "execution_count": 54,
          "metadata": {},
          "output_type": "execute_result"
        },
        {
          "data": {
            "image/png": "[encoded data removed]",
            "text/plain": [
              "<Figure size 432x288 with 1 Axes>"
            ]
          },
          "metadata": {
            "needs_background": "light"
          },
          "output_type": "display_data"
        }
      ],
      "source": [
        "plt.plot(data_)"
      ]
    },
    {
      "cell_type": "code",
      "execution_count": null,
      "id": "ad6d7d14",
      "metadata": {
        "id": "ad6d7d14"
      },
      "outputs": [],
      "source": [
        "from statsmodels.tsa.stattools import arma_order_select_ic"
      ]
    },
    {
      "cell_type": "code",
      "execution_count": null,
      "id": "3a119c0d",
      "metadata": {
        "id": "3a119c0d",
        "outputId": "10fde8e6-ef8f-48a3-a64c-4876dee5ee18"
      },
      "outputs": [
        {
          "name": "stderr",
          "output_type": "stream",
          "text": [
            "C:\\Users\\hamsi\\anaconda3\\lib\\site-packages\\statsmodels\\tsa\\arima_model.py:472: FutureWarning: \n",
            "statsmodels.tsa.arima_model.ARMA and statsmodels.tsa.arima_model.ARIMA have\n",
            "been deprecated in favor of statsmodels.tsa.arima.model.ARIMA (note the .\n",
            "between arima and model) and\n",
            "statsmodels.tsa.SARIMAX. These will be removed after the 0.12 release.\n",
            "\n",
            "statsmodels.tsa.arima.model.ARIMA makes use of the statespace framework and\n",
            "is both well tested and maintained.\n",
            "\n",
            "To silence this warning and continue using ARMA and ARIMA until they are\n",
            "removed, use:\n",
            "\n",
            "import warnings\n",
            "warnings.filterwarnings('ignore', 'statsmodels.tsa.arima_model.ARMA',\n",
            "                        FutureWarning)\n",
            "warnings.filterwarnings('ignore', 'statsmodels.tsa.arima_model.ARIMA',\n",
            "                        FutureWarning)\n",
            "\n",
            "  warnings.warn(ARIMA_DEPRECATION_WARN, FutureWarning)\n",
            "C:\\Users\\hamsi\\anaconda3\\lib\\site-packages\\statsmodels\\tsa\\tsatools.py:701: RuntimeWarning: overflow encountered in exp\n",
            "  newparams = ((1-np.exp(-params))/(1+np.exp(-params))).copy()\n",
            "C:\\Users\\hamsi\\anaconda3\\lib\\site-packages\\statsmodels\\tsa\\tsatools.py:701: RuntimeWarning: invalid value encountered in true_divide\n",
            "  newparams = ((1-np.exp(-params))/(1+np.exp(-params))).copy()\n",
            "C:\\Users\\hamsi\\anaconda3\\lib\\site-packages\\statsmodels\\tsa\\tsatools.py:702: RuntimeWarning: overflow encountered in exp\n",
            "  tmp = ((1-np.exp(-params))/(1+np.exp(-params))).copy()\n",
            "C:\\Users\\hamsi\\anaconda3\\lib\\site-packages\\statsmodels\\tsa\\tsatools.py:702: RuntimeWarning: invalid value encountered in true_divide\n",
            "  tmp = ((1-np.exp(-params))/(1+np.exp(-params))).copy()\n"
          ]
        },
        {
          "data": {
            "text/plain": [
              "{'bic':               0             1             2             3             4\n",
              " 0           NaN -10988.636659 -10984.088697 -10978.331059 -10971.687039\n",
              " 1 -10985.306629 -10983.176845 -10980.358045 -10972.979205 -10965.656923\n",
              " 2 -10985.123910 -10980.244958 -10973.010444 -10965.444568 -10966.703179\n",
              " 3 -10978.286998 -10972.936071 -10967.321755 -10959.835927 -10963.903435\n",
              " 4 -10971.896272 -10966.036836 -10966.961977 -10958.636427 -10951.414197,\n",
              " 'bic_min_order': (0, 1)}"
            ]
          },
          "execution_count": 55,
          "metadata": {},
          "output_type": "execute_result"
        }
      ],
      "source": [
        "arma_order_select_ic(data_, max_ar = 4, max_ma = 4, trend = \"nc\")"
      ]
    },
    {
      "cell_type": "code",
      "execution_count": null,
      "id": "92989247",
      "metadata": {
        "id": "92989247"
      },
      "outputs": [],
      "source": [
        "from statsmodels.tsa.arima.model import ARIMA\n",
        "mod = ARIMA(data, order = (0,1,1))\n",
        "model = mod.fit()"
      ]
    },
    {
      "cell_type": "code",
      "execution_count": null,
      "id": "18768696",
      "metadata": {
        "id": "18768696",
        "outputId": "a4cf1bbb-0e5a-4dbb-f3f2-df39e9d8dc70"
      },
      "outputs": [
        {
          "data": {
            "text/html": [
              "<table class=\"simpletable\">\n",
              "<caption>SARIMAX Results</caption>\n",
              "<tr>\n",
              "  <th>Dep. Variable:</th>         <td>Close</td>      <th>  No. Observations:  </th>    <td>1806</td>   \n",
              "</tr>\n",
              "<tr>\n",
              "  <th>Model:</th>            <td>ARIMA(0, 1, 1)</td>  <th>  Log Likelihood     </th>  <td>5501.775</td> \n",
              "</tr>\n",
              "<tr>\n",
              "  <th>Date:</th>            <td>Mon, 28 Nov 2022</td> <th>  AIC                </th> <td>-10999.550</td>\n",
              "</tr>\n",
              "<tr>\n",
              "  <th>Time:</th>                <td>14:07:10</td>     <th>  BIC                </th> <td>-10988.553</td>\n",
              "</tr>\n",
              "<tr>\n",
              "  <th>Sample:</th>                  <td>0</td>        <th>  HQIC               </th> <td>-10995.491</td>\n",
              "</tr>\n",
              "<tr>\n",
              "  <th></th>                      <td> - 1806</td>     <th>                     </th>      <td> </td>    \n",
              "</tr>\n",
              "<tr>\n",
              "  <th>Covariance Type:</th>        <td>opg</td>       <th>                     </th>      <td> </td>    \n",
              "</tr>\n",
              "</table>\n",
              "<table class=\"simpletable\">\n",
              "<tr>\n",
              "     <td></td>       <th>coef</th>     <th>std err</th>      <th>z</th>      <th>P>|z|</th>  <th>[0.025</th>    <th>0.975]</th>  \n",
              "</tr>\n",
              "<tr>\n",
              "  <th>ma.L1</th>  <td>    0.1326</td> <td>    0.006</td> <td>   20.539</td> <td> 0.000</td> <td>    0.120</td> <td>    0.145</td>\n",
              "</tr>\n",
              "<tr>\n",
              "  <th>sigma2</th> <td>    0.0001</td> <td> 6.49e-07</td> <td>  202.906</td> <td> 0.000</td> <td>    0.000</td> <td>    0.000</td>\n",
              "</tr>\n",
              "</table>\n",
              "<table class=\"simpletable\">\n",
              "<tr>\n",
              "  <th>Ljung-Box (L1) (Q):</th>     <td>0.02</td> <th>  Jarque-Bera (JB):  </th> <td>635969.97</td>\n",
              "</tr>\n",
              "<tr>\n",
              "  <th>Prob(Q):</th>                <td>0.88</td> <th>  Prob(JB):          </th>   <td>0.00</td>   \n",
              "</tr>\n",
              "<tr>\n",
              "  <th>Heteroskedasticity (H):</th> <td>6.08</td> <th>  Skew:              </th>   <td>-0.75</td>  \n",
              "</tr>\n",
              "<tr>\n",
              "  <th>Prob(H) (two-sided):</th>    <td>0.00</td> <th>  Kurtosis:          </th>   <td>94.94</td>  \n",
              "</tr>\n",
              "</table><br/><br/>Warnings:<br/>[1] Covariance matrix calculated using the outer product of gradients (complex-step)."
            ],
            "text/plain": [
              "<class 'statsmodels.iolib.summary.Summary'>\n",
              "\"\"\"\n",
              "                               SARIMAX Results                                \n",
              "==============================================================================\n",
              "Dep. Variable:                  Close   No. Observations:                 1806\n",
              "Model:                 ARIMA(0, 1, 1)   Log Likelihood                5501.775\n",
              "Date:                Mon, 28 Nov 2022   AIC                         -10999.550\n",
              "Time:                        14:07:10   BIC                         -10988.553\n",
              "Sample:                             0   HQIC                        -10995.491\n",
              "                               - 1806                                         \n",
              "Covariance Type:                  opg                                         \n",
              "==============================================================================\n",
              "                 coef    std err          z      P>|z|      [0.025      0.975]\n",
              "------------------------------------------------------------------------------\n",
              "ma.L1          0.1326      0.006     20.539      0.000       0.120       0.145\n",
              "sigma2         0.0001   6.49e-07    202.906      0.000       0.000       0.000\n",
              "===================================================================================\n",
              "Ljung-Box (L1) (Q):                   0.02   Jarque-Bera (JB):            635969.97\n",
              "Prob(Q):                              0.88   Prob(JB):                         0.00\n",
              "Heteroskedasticity (H):               6.08   Skew:                            -0.75\n",
              "Prob(H) (two-sided):                  0.00   Kurtosis:                        94.94\n",
              "===================================================================================\n",
              "\n",
              "Warnings:\n",
              "[1] Covariance matrix calculated using the outer product of gradients (complex-step).\n",
              "\"\"\""
            ]
          },
          "execution_count": 129,
          "metadata": {},
          "output_type": "execute_result"
        }
      ],
      "source": [
        "model.summary()"
      ]
    },
    {
      "cell_type": "code",
      "execution_count": null,
      "id": "18a0d356",
      "metadata": {
        "id": "18a0d356",
        "outputId": "8163b22a-d949-432a-cac0-3161125ed808"
      },
      "outputs": [
        {
          "data": {
            "text/plain": [
              "[<matplotlib.lines.Line2D at 0x23b19b9bd00>]"
            ]
          },
          "execution_count": 122,
          "metadata": {},
          "output_type": "execute_result"
        },
        {
          "data": {
            "image/png": "[encoded data removed]",
            "text/plain": [
              "<Figure size 432x288 with 1 Axes>"
            ]
          },
          "metadata": {
            "needs_background": "light"
          },
          "output_type": "display_data"
        }
      ],
      "source": [
        "plt.plot(data)\n",
        "plt.plot(model.predict()+0.1)"
      ]
    },
    {
      "cell_type": "code",
      "execution_count": null,
      "id": "17de528c",
      "metadata": {
        "id": "17de528c"
      },
      "outputs": [],
      "source": [
        "residuals = model.resid"
      ]
    },
    {
      "cell_type": "code",
      "execution_count": null,
      "id": "69618f2d",
      "metadata": {
        "id": "69618f2d"
      },
      "outputs": [],
      "source": [
        "from statsmodels.graphics.tsaplots import plot_acf, plot_pacf"
      ]
    },
    {
      "cell_type": "code",
      "execution_count": null,
      "id": "a3b66dc2",
      "metadata": {
        "id": "a3b66dc2",
        "outputId": "468d108e-71b5-4ebf-b593-a5cded503d6a"
      },
      "outputs": [
        {
          "data": {
            "image/png": "[encoded data removed]",
            "text/plain": [
              "<Figure size 432x288 with 1 Axes>"
            ]
          },
          "metadata": {
            "needs_background": "light"
          },
          "output_type": "display_data"
        }
      ],
      "source": [
        "plot_acf(np.square(residuals));"
      ]
    },
    {
      "cell_type": "code",
      "execution_count": null,
      "id": "42478086",
      "metadata": {
        "id": "42478086"
      },
      "outputs": [],
      "source": [
        "from statsmodels.stats.diagnostic import acorr_ljungbox"
      ]
    },
    {
      "cell_type": "code",
      "execution_count": null,
      "id": "4a0df1af",
      "metadata": {
        "id": "4a0df1af",
        "outputId": "d7ffd935-f4a6-474a-de65-b7d3cc6dd1bd"
      },
      "outputs": [
        {
          "name": "stderr",
          "output_type": "stream",
          "text": [
            "C:\\Users\\hamsi\\anaconda3\\lib\\site-packages\\statsmodels\\stats\\diagnostic.py:531: FutureWarning: The default value of lags is changing.  After 0.12, this value will become min(10, nobs//5). Directly setlags to silence this warning.\n",
            "  warnings.warn(\"The default value of lags is changing.  After 0.12, \"\n"
          ]
        },
        {
          "data": {
            "text/html": [
              "<div>\n",
              "<style scoped>\n",
              "    .dataframe tbody tr th:only-of-type {\n",
              "        vertical-align: middle;\n",
              "    }\n",
              "\n",
              "    .dataframe tbody tr th {\n",
              "        vertical-align: top;\n",
              "    }\n",
              "\n",
              "    .dataframe thead th {\n",
              "        text-align: right;\n",
              "    }\n",
              "</style>\n",
              "<table border=\"1\" class=\"dataframe\">\n",
              "  <thead>\n",
              "    <tr style=\"text-align: right;\">\n",
              "      <th></th>\n",
              "      <th>lb_stat</th>\n",
              "      <th>lb_pvalue</th>\n",
              "    </tr>\n",
              "  </thead>\n",
              "  <tbody>\n",
              "    <tr>\n",
              "      <th>1</th>\n",
              "      <td>0.011924</td>\n",
              "      <td>NaN</td>\n",
              "    </tr>\n",
              "    <tr>\n",
              "      <th>2</th>\n",
              "      <td>0.074980</td>\n",
              "      <td>0.784219</td>\n",
              "    </tr>\n",
              "    <tr>\n",
              "      <th>3</th>\n",
              "      <td>0.078120</td>\n",
              "      <td>0.961693</td>\n",
              "    </tr>\n",
              "    <tr>\n",
              "      <th>4</th>\n",
              "      <td>0.125860</td>\n",
              "      <td>0.988563</td>\n",
              "    </tr>\n",
              "    <tr>\n",
              "      <th>5</th>\n",
              "      <td>0.149622</td>\n",
              "      <td>0.997337</td>\n",
              "    </tr>\n",
              "    <tr>\n",
              "      <th>6</th>\n",
              "      <td>0.231416</td>\n",
              "      <td>0.998738</td>\n",
              "    </tr>\n",
              "    <tr>\n",
              "      <th>7</th>\n",
              "      <td>0.232535</td>\n",
              "      <td>0.999760</td>\n",
              "    </tr>\n",
              "    <tr>\n",
              "      <th>8</th>\n",
              "      <td>0.253654</td>\n",
              "      <td>0.999943</td>\n",
              "    </tr>\n",
              "    <tr>\n",
              "      <th>9</th>\n",
              "      <td>0.307000</td>\n",
              "      <td>0.999980</td>\n",
              "    </tr>\n",
              "    <tr>\n",
              "      <th>10</th>\n",
              "      <td>0.329016</td>\n",
              "      <td>0.999995</td>\n",
              "    </tr>\n",
              "    <tr>\n",
              "      <th>11</th>\n",
              "      <td>0.332316</td>\n",
              "      <td>0.999999</td>\n",
              "    </tr>\n",
              "    <tr>\n",
              "      <th>12</th>\n",
              "      <td>0.332818</td>\n",
              "      <td>1.000000</td>\n",
              "    </tr>\n",
              "    <tr>\n",
              "      <th>13</th>\n",
              "      <td>0.547067</td>\n",
              "      <td>1.000000</td>\n",
              "    </tr>\n",
              "    <tr>\n",
              "      <th>14</th>\n",
              "      <td>0.576463</td>\n",
              "      <td>1.000000</td>\n",
              "    </tr>\n",
              "    <tr>\n",
              "      <th>15</th>\n",
              "      <td>0.585650</td>\n",
              "      <td>1.000000</td>\n",
              "    </tr>\n",
              "    <tr>\n",
              "      <th>16</th>\n",
              "      <td>0.608058</td>\n",
              "      <td>1.000000</td>\n",
              "    </tr>\n",
              "    <tr>\n",
              "      <th>17</th>\n",
              "      <td>0.609870</td>\n",
              "      <td>1.000000</td>\n",
              "    </tr>\n",
              "    <tr>\n",
              "      <th>18</th>\n",
              "      <td>0.682536</td>\n",
              "      <td>1.000000</td>\n",
              "    </tr>\n",
              "    <tr>\n",
              "      <th>19</th>\n",
              "      <td>0.837150</td>\n",
              "      <td>1.000000</td>\n",
              "    </tr>\n",
              "    <tr>\n",
              "      <th>20</th>\n",
              "      <td>0.879222</td>\n",
              "      <td>1.000000</td>\n",
              "    </tr>\n",
              "    <tr>\n",
              "      <th>21</th>\n",
              "      <td>1.012703</td>\n",
              "      <td>1.000000</td>\n",
              "    </tr>\n",
              "    <tr>\n",
              "      <th>22</th>\n",
              "      <td>1.026698</td>\n",
              "      <td>1.000000</td>\n",
              "    </tr>\n",
              "    <tr>\n",
              "      <th>23</th>\n",
              "      <td>1.180282</td>\n",
              "      <td>1.000000</td>\n",
              "    </tr>\n",
              "    <tr>\n",
              "      <th>24</th>\n",
              "      <td>1.434969</td>\n",
              "      <td>1.000000</td>\n",
              "    </tr>\n",
              "    <tr>\n",
              "      <th>25</th>\n",
              "      <td>1.450862</td>\n",
              "      <td>1.000000</td>\n",
              "    </tr>\n",
              "    <tr>\n",
              "      <th>26</th>\n",
              "      <td>1.452866</td>\n",
              "      <td>1.000000</td>\n",
              "    </tr>\n",
              "    <tr>\n",
              "      <th>27</th>\n",
              "      <td>1.488563</td>\n",
              "      <td>1.000000</td>\n",
              "    </tr>\n",
              "    <tr>\n",
              "      <th>28</th>\n",
              "      <td>1.521721</td>\n",
              "      <td>1.000000</td>\n",
              "    </tr>\n",
              "    <tr>\n",
              "      <th>29</th>\n",
              "      <td>1.521820</td>\n",
              "      <td>1.000000</td>\n",
              "    </tr>\n",
              "    <tr>\n",
              "      <th>30</th>\n",
              "      <td>1.531130</td>\n",
              "      <td>1.000000</td>\n",
              "    </tr>\n",
              "    <tr>\n",
              "      <th>31</th>\n",
              "      <td>1.536680</td>\n",
              "      <td>1.000000</td>\n",
              "    </tr>\n",
              "    <tr>\n",
              "      <th>32</th>\n",
              "      <td>1.537682</td>\n",
              "      <td>1.000000</td>\n",
              "    </tr>\n",
              "    <tr>\n",
              "      <th>33</th>\n",
              "      <td>1.600888</td>\n",
              "      <td>1.000000</td>\n",
              "    </tr>\n",
              "    <tr>\n",
              "      <th>34</th>\n",
              "      <td>1.624988</td>\n",
              "      <td>1.000000</td>\n",
              "    </tr>\n",
              "    <tr>\n",
              "      <th>35</th>\n",
              "      <td>1.626377</td>\n",
              "      <td>1.000000</td>\n",
              "    </tr>\n",
              "    <tr>\n",
              "      <th>36</th>\n",
              "      <td>1.647574</td>\n",
              "      <td>1.000000</td>\n",
              "    </tr>\n",
              "    <tr>\n",
              "      <th>37</th>\n",
              "      <td>1.720950</td>\n",
              "      <td>1.000000</td>\n",
              "    </tr>\n",
              "    <tr>\n",
              "      <th>38</th>\n",
              "      <td>1.736935</td>\n",
              "      <td>1.000000</td>\n",
              "    </tr>\n",
              "    <tr>\n",
              "      <th>39</th>\n",
              "      <td>1.831127</td>\n",
              "      <td>1.000000</td>\n",
              "    </tr>\n",
              "    <tr>\n",
              "      <th>40</th>\n",
              "      <td>1.834997</td>\n",
              "      <td>1.000000</td>\n",
              "    </tr>\n",
              "  </tbody>\n",
              "</table>\n",
              "</div>"
            ],
            "text/plain": [
              "     lb_stat  lb_pvalue\n",
              "1   0.011924        NaN\n",
              "2   0.074980   0.784219\n",
              "3   0.078120   0.961693\n",
              "4   0.125860   0.988563\n",
              "5   0.149622   0.997337\n",
              "6   0.231416   0.998738\n",
              "7   0.232535   0.999760\n",
              "8   0.253654   0.999943\n",
              "9   0.307000   0.999980\n",
              "10  0.329016   0.999995\n",
              "11  0.332316   0.999999\n",
              "12  0.332818   1.000000\n",
              "13  0.547067   1.000000\n",
              "14  0.576463   1.000000\n",
              "15  0.585650   1.000000\n",
              "16  0.608058   1.000000\n",
              "17  0.609870   1.000000\n",
              "18  0.682536   1.000000\n",
              "19  0.837150   1.000000\n",
              "20  0.879222   1.000000\n",
              "21  1.012703   1.000000\n",
              "22  1.026698   1.000000\n",
              "23  1.180282   1.000000\n",
              "24  1.434969   1.000000\n",
              "25  1.450862   1.000000\n",
              "26  1.452866   1.000000\n",
              "27  1.488563   1.000000\n",
              "28  1.521721   1.000000\n",
              "29  1.521820   1.000000\n",
              "30  1.531130   1.000000\n",
              "31  1.536680   1.000000\n",
              "32  1.537682   1.000000\n",
              "33  1.600888   1.000000\n",
              "34  1.624988   1.000000\n",
              "35  1.626377   1.000000\n",
              "36  1.647574   1.000000\n",
              "37  1.720950   1.000000\n",
              "38  1.736935   1.000000\n",
              "39  1.831127   1.000000\n",
              "40  1.834997   1.000000"
            ]
          },
          "execution_count": 113,
          "metadata": {},
          "output_type": "execute_result"
        }
      ],
      "source": [
        "acorr_ljungbox(residuals, model_df = 1, return_df = True)"
      ]
    },
    {
      "cell_type": "code",
      "execution_count": null,
      "id": "9992ad00",
      "metadata": {
        "id": "9992ad00",
        "outputId": "685ea3de-c513-462e-97af-2cedfa725eab"
      },
      "outputs": [
        {
          "name": "stderr",
          "output_type": "stream",
          "text": [
            "C:\\Users\\hamsi\\anaconda3\\lib\\site-packages\\statsmodels\\stats\\diagnostic.py:531: FutureWarning: The default value of lags is changing.  After 0.12, this value will become min(10, nobs//5). Directly setlags to silence this warning.\n",
            "  warnings.warn(\"The default value of lags is changing.  After 0.12, \"\n"
          ]
        },
        {
          "data": {
            "text/html": [
              "<div>\n",
              "<style scoped>\n",
              "    .dataframe tbody tr th:only-of-type {\n",
              "        vertical-align: middle;\n",
              "    }\n",
              "\n",
              "    .dataframe tbody tr th {\n",
              "        vertical-align: top;\n",
              "    }\n",
              "\n",
              "    .dataframe thead th {\n",
              "        text-align: right;\n",
              "    }\n",
              "</style>\n",
              "<table border=\"1\" class=\"dataframe\">\n",
              "  <thead>\n",
              "    <tr style=\"text-align: right;\">\n",
              "      <th></th>\n",
              "      <th>lb_stat</th>\n",
              "      <th>lb_pvalue</th>\n",
              "      <th>bp_stat</th>\n",
              "      <th>bp_pvalue</th>\n",
              "    </tr>\n",
              "  </thead>\n",
              "  <tbody>\n",
              "    <tr>\n",
              "      <th>1</th>\n",
              "      <td>0.000005</td>\n",
              "      <td>NaN</td>\n",
              "      <td>0.000005</td>\n",
              "      <td>NaN</td>\n",
              "    </tr>\n",
              "    <tr>\n",
              "      <th>2</th>\n",
              "      <td>0.000006</td>\n",
              "      <td>0.998108</td>\n",
              "      <td>0.000006</td>\n",
              "      <td>0.998110</td>\n",
              "    </tr>\n",
              "    <tr>\n",
              "      <th>3</th>\n",
              "      <td>0.000006</td>\n",
              "      <td>0.999997</td>\n",
              "      <td>0.000006</td>\n",
              "      <td>0.999997</td>\n",
              "    </tr>\n",
              "    <tr>\n",
              "      <th>4</th>\n",
              "      <td>0.000006</td>\n",
              "      <td>1.000000</td>\n",
              "      <td>0.000006</td>\n",
              "      <td>1.000000</td>\n",
              "    </tr>\n",
              "    <tr>\n",
              "      <th>5</th>\n",
              "      <td>0.000006</td>\n",
              "      <td>1.000000</td>\n",
              "      <td>0.000006</td>\n",
              "      <td>1.000000</td>\n",
              "    </tr>\n",
              "    <tr>\n",
              "      <th>6</th>\n",
              "      <td>0.000006</td>\n",
              "      <td>1.000000</td>\n",
              "      <td>0.000006</td>\n",
              "      <td>1.000000</td>\n",
              "    </tr>\n",
              "    <tr>\n",
              "      <th>7</th>\n",
              "      <td>0.000007</td>\n",
              "      <td>1.000000</td>\n",
              "      <td>0.000007</td>\n",
              "      <td>1.000000</td>\n",
              "    </tr>\n",
              "    <tr>\n",
              "      <th>8</th>\n",
              "      <td>0.000010</td>\n",
              "      <td>1.000000</td>\n",
              "      <td>0.000010</td>\n",
              "      <td>1.000000</td>\n",
              "    </tr>\n",
              "    <tr>\n",
              "      <th>9</th>\n",
              "      <td>0.000017</td>\n",
              "      <td>1.000000</td>\n",
              "      <td>0.000017</td>\n",
              "      <td>1.000000</td>\n",
              "    </tr>\n",
              "    <tr>\n",
              "      <th>10</th>\n",
              "      <td>0.000018</td>\n",
              "      <td>1.000000</td>\n",
              "      <td>0.000018</td>\n",
              "      <td>1.000000</td>\n",
              "    </tr>\n",
              "    <tr>\n",
              "      <th>11</th>\n",
              "      <td>0.000023</td>\n",
              "      <td>1.000000</td>\n",
              "      <td>0.000023</td>\n",
              "      <td>1.000000</td>\n",
              "    </tr>\n",
              "    <tr>\n",
              "      <th>12</th>\n",
              "      <td>0.000030</td>\n",
              "      <td>1.000000</td>\n",
              "      <td>0.000030</td>\n",
              "      <td>1.000000</td>\n",
              "    </tr>\n",
              "    <tr>\n",
              "      <th>13</th>\n",
              "      <td>0.000037</td>\n",
              "      <td>1.000000</td>\n",
              "      <td>0.000036</td>\n",
              "      <td>1.000000</td>\n",
              "    </tr>\n",
              "    <tr>\n",
              "      <th>14</th>\n",
              "      <td>0.000039</td>\n",
              "      <td>1.000000</td>\n",
              "      <td>0.000038</td>\n",
              "      <td>1.000000</td>\n",
              "    </tr>\n",
              "    <tr>\n",
              "      <th>15</th>\n",
              "      <td>0.000041</td>\n",
              "      <td>1.000000</td>\n",
              "      <td>0.000040</td>\n",
              "      <td>1.000000</td>\n",
              "    </tr>\n",
              "    <tr>\n",
              "      <th>16</th>\n",
              "      <td>0.000046</td>\n",
              "      <td>1.000000</td>\n",
              "      <td>0.000045</td>\n",
              "      <td>1.000000</td>\n",
              "    </tr>\n",
              "    <tr>\n",
              "      <th>17</th>\n",
              "      <td>0.000050</td>\n",
              "      <td>1.000000</td>\n",
              "      <td>0.000049</td>\n",
              "      <td>1.000000</td>\n",
              "    </tr>\n",
              "    <tr>\n",
              "      <th>18</th>\n",
              "      <td>0.000050</td>\n",
              "      <td>1.000000</td>\n",
              "      <td>0.000050</td>\n",
              "      <td>1.000000</td>\n",
              "    </tr>\n",
              "    <tr>\n",
              "      <th>19</th>\n",
              "      <td>0.000063</td>\n",
              "      <td>1.000000</td>\n",
              "      <td>0.000062</td>\n",
              "      <td>1.000000</td>\n",
              "    </tr>\n",
              "    <tr>\n",
              "      <th>20</th>\n",
              "      <td>0.000068</td>\n",
              "      <td>1.000000</td>\n",
              "      <td>0.000068</td>\n",
              "      <td>1.000000</td>\n",
              "    </tr>\n",
              "    <tr>\n",
              "      <th>21</th>\n",
              "      <td>0.000074</td>\n",
              "      <td>1.000000</td>\n",
              "      <td>0.000074</td>\n",
              "      <td>1.000000</td>\n",
              "    </tr>\n",
              "    <tr>\n",
              "      <th>22</th>\n",
              "      <td>0.000078</td>\n",
              "      <td>1.000000</td>\n",
              "      <td>0.000077</td>\n",
              "      <td>1.000000</td>\n",
              "    </tr>\n",
              "    <tr>\n",
              "      <th>23</th>\n",
              "      <td>0.000083</td>\n",
              "      <td>1.000000</td>\n",
              "      <td>0.000082</td>\n",
              "      <td>1.000000</td>\n",
              "    </tr>\n",
              "    <tr>\n",
              "      <th>24</th>\n",
              "      <td>0.000083</td>\n",
              "      <td>1.000000</td>\n",
              "      <td>0.000082</td>\n",
              "      <td>1.000000</td>\n",
              "    </tr>\n",
              "    <tr>\n",
              "      <th>25</th>\n",
              "      <td>0.000092</td>\n",
              "      <td>1.000000</td>\n",
              "      <td>0.000091</td>\n",
              "      <td>1.000000</td>\n",
              "    </tr>\n",
              "    <tr>\n",
              "      <th>26</th>\n",
              "      <td>0.000099</td>\n",
              "      <td>1.000000</td>\n",
              "      <td>0.000098</td>\n",
              "      <td>1.000000</td>\n",
              "    </tr>\n",
              "    <tr>\n",
              "      <th>27</th>\n",
              "      <td>0.000109</td>\n",
              "      <td>1.000000</td>\n",
              "      <td>0.000108</td>\n",
              "      <td>1.000000</td>\n",
              "    </tr>\n",
              "    <tr>\n",
              "      <th>28</th>\n",
              "      <td>0.000110</td>\n",
              "      <td>1.000000</td>\n",
              "      <td>0.000109</td>\n",
              "      <td>1.000000</td>\n",
              "    </tr>\n",
              "    <tr>\n",
              "      <th>29</th>\n",
              "      <td>0.000123</td>\n",
              "      <td>1.000000</td>\n",
              "      <td>0.000121</td>\n",
              "      <td>1.000000</td>\n",
              "    </tr>\n",
              "    <tr>\n",
              "      <th>30</th>\n",
              "      <td>0.000134</td>\n",
              "      <td>1.000000</td>\n",
              "      <td>0.000133</td>\n",
              "      <td>1.000000</td>\n",
              "    </tr>\n",
              "    <tr>\n",
              "      <th>31</th>\n",
              "      <td>0.000138</td>\n",
              "      <td>1.000000</td>\n",
              "      <td>0.000137</td>\n",
              "      <td>1.000000</td>\n",
              "    </tr>\n",
              "    <tr>\n",
              "      <th>32</th>\n",
              "      <td>0.000150</td>\n",
              "      <td>1.000000</td>\n",
              "      <td>0.000148</td>\n",
              "      <td>1.000000</td>\n",
              "    </tr>\n",
              "    <tr>\n",
              "      <th>33</th>\n",
              "      <td>0.000160</td>\n",
              "      <td>1.000000</td>\n",
              "      <td>0.000158</td>\n",
              "      <td>1.000000</td>\n",
              "    </tr>\n",
              "    <tr>\n",
              "      <th>34</th>\n",
              "      <td>0.000171</td>\n",
              "      <td>1.000000</td>\n",
              "      <td>0.000169</td>\n",
              "      <td>1.000000</td>\n",
              "    </tr>\n",
              "    <tr>\n",
              "      <th>35</th>\n",
              "      <td>0.000183</td>\n",
              "      <td>1.000000</td>\n",
              "      <td>0.000181</td>\n",
              "      <td>1.000000</td>\n",
              "    </tr>\n",
              "    <tr>\n",
              "      <th>36</th>\n",
              "      <td>0.000195</td>\n",
              "      <td>1.000000</td>\n",
              "      <td>0.000192</td>\n",
              "      <td>1.000000</td>\n",
              "    </tr>\n",
              "    <tr>\n",
              "      <th>37</th>\n",
              "      <td>0.000201</td>\n",
              "      <td>1.000000</td>\n",
              "      <td>0.000198</td>\n",
              "      <td>1.000000</td>\n",
              "    </tr>\n",
              "    <tr>\n",
              "      <th>38</th>\n",
              "      <td>0.000209</td>\n",
              "      <td>1.000000</td>\n",
              "      <td>0.000206</td>\n",
              "      <td>1.000000</td>\n",
              "    </tr>\n",
              "    <tr>\n",
              "      <th>39</th>\n",
              "      <td>0.000220</td>\n",
              "      <td>1.000000</td>\n",
              "      <td>0.000217</td>\n",
              "      <td>1.000000</td>\n",
              "    </tr>\n",
              "    <tr>\n",
              "      <th>40</th>\n",
              "      <td>0.000231</td>\n",
              "      <td>1.000000</td>\n",
              "      <td>0.000228</td>\n",
              "      <td>1.000000</td>\n",
              "    </tr>\n",
              "  </tbody>\n",
              "</table>\n",
              "</div>"
            ],
            "text/plain": [
              "     lb_stat  lb_pvalue   bp_stat  bp_pvalue\n",
              "1   0.000005        NaN  0.000005        NaN\n",
              "2   0.000006   0.998108  0.000006   0.998110\n",
              "3   0.000006   0.999997  0.000006   0.999997\n",
              "4   0.000006   1.000000  0.000006   1.000000\n",
              "5   0.000006   1.000000  0.000006   1.000000\n",
              "6   0.000006   1.000000  0.000006   1.000000\n",
              "7   0.000007   1.000000  0.000007   1.000000\n",
              "8   0.000010   1.000000  0.000010   1.000000\n",
              "9   0.000017   1.000000  0.000017   1.000000\n",
              "10  0.000018   1.000000  0.000018   1.000000\n",
              "11  0.000023   1.000000  0.000023   1.000000\n",
              "12  0.000030   1.000000  0.000030   1.000000\n",
              "13  0.000037   1.000000  0.000036   1.000000\n",
              "14  0.000039   1.000000  0.000038   1.000000\n",
              "15  0.000041   1.000000  0.000040   1.000000\n",
              "16  0.000046   1.000000  0.000045   1.000000\n",
              "17  0.000050   1.000000  0.000049   1.000000\n",
              "18  0.000050   1.000000  0.000050   1.000000\n",
              "19  0.000063   1.000000  0.000062   1.000000\n",
              "20  0.000068   1.000000  0.000068   1.000000\n",
              "21  0.000074   1.000000  0.000074   1.000000\n",
              "22  0.000078   1.000000  0.000077   1.000000\n",
              "23  0.000083   1.000000  0.000082   1.000000\n",
              "24  0.000083   1.000000  0.000082   1.000000\n",
              "25  0.000092   1.000000  0.000091   1.000000\n",
              "26  0.000099   1.000000  0.000098   1.000000\n",
              "27  0.000109   1.000000  0.000108   1.000000\n",
              "28  0.000110   1.000000  0.000109   1.000000\n",
              "29  0.000123   1.000000  0.000121   1.000000\n",
              "30  0.000134   1.000000  0.000133   1.000000\n",
              "31  0.000138   1.000000  0.000137   1.000000\n",
              "32  0.000150   1.000000  0.000148   1.000000\n",
              "33  0.000160   1.000000  0.000158   1.000000\n",
              "34  0.000171   1.000000  0.000169   1.000000\n",
              "35  0.000183   1.000000  0.000181   1.000000\n",
              "36  0.000195   1.000000  0.000192   1.000000\n",
              "37  0.000201   1.000000  0.000198   1.000000\n",
              "38  0.000209   1.000000  0.000206   1.000000\n",
              "39  0.000220   1.000000  0.000217   1.000000\n",
              "40  0.000231   1.000000  0.000228   1.000000"
            ]
          },
          "execution_count": 116,
          "metadata": {},
          "output_type": "execute_result"
        }
      ],
      "source": [
        "acorr_ljungbox(np.square(residuals), model_df = 1, return_df = True, boxpierce = True)"
      ]
    },
    {
      "cell_type": "code",
      "execution_count": null,
      "id": "b35d3787",
      "metadata": {
        "id": "b35d3787",
        "outputId": "92c04d36-6dae-413e-82c4-65feb622fd15"
      },
      "outputs": [
        {
          "data": {
            "text/plain": [
              "(69.63607138085213,\n",
              " 3.7464373191719934e-10,\n",
              " 5.993603451438701,\n",
              " 2.362401574395165e-10)"
            ]
          },
          "execution_count": 115,
          "metadata": {},
          "output_type": "execute_result"
        }
      ],
      "source": [
        "statsmodels.stats.diagnostic.het_arch(residuals, nlags = 12) ####There is a little ARCH effect here!"
      ]
    },
    {
      "cell_type": "code",
      "execution_count": null,
      "id": "4f59de69",
      "metadata": {
        "id": "4f59de69"
      },
      "outputs": [],
      "source": []
    }
  ],
  "metadata": {
    "kernelspec": {
      "display_name": "Python 3 (ipykernel)",
      "language": "python",
      "name": "python3"
    },
    "language_info": {
      "codemirror_mode": {
        "name": "ipython",
        "version": 3
      },
      "file_extension": ".py",
      "mimetype": "text/x-python",
      "name": "python",
      "nbconvert_exporter": "python",
      "pygments_lexer": "ipython3",
      "version": "3.9.7"
    },
    "colab": {
      "provenance": []
    }
  },
  "nbformat": 4,
  "nbformat_minor": 5
}