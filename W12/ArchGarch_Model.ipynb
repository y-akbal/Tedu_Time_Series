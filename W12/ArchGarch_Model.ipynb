{
 "cells": [
  {
   "cell_type": "markdown",
   "id": "f60848a1",
   "metadata": {},
   "source": [
    "[![Open in Colab](https://colab.research.google.com/assets/colab-badge.svg)](https://colab.research.google.com/github/y-akbal/Tedu_Time_Series/blob/main/W12/ArchGarch_Model.ipynb)"
   ]
  },
  {
   "cell_type": "code",
   "execution_count": 15,
   "id": "fc72ec1b",
   "metadata": {},
   "outputs": [],
   "source": [
    "import os\n",
    "import pandas as pd\n",
    "from matplotlib import pyplot as plt\n",
    "import numpy as np"
   ]
  },
  {
   "cell_type": "code",
   "execution_count": 16,
   "id": "ba559d6f",
   "metadata": {},
   "outputs": [
    {
     "name": "stdout",
     "output_type": "stream",
     "text": [
      "Dataset downloaded!, the name of the time series is: Index2018.csv\n"
     ]
    }
   ],
   "source": [
    "def download_ts():  ### This dude will download the dataset from the directory directly!\n",
    "  import requests\n",
    "  url = \"https://raw.githubusercontent.com/y-akbal/Tedu_Time_Series/main/W12/Index2018.csv\"\n",
    "  res = requests.get(url, allow_redirects=True)\n",
    "  with open('Index2018.csv','wb') as file:\n",
    "    file.write(res.content)\n",
    "  print(\"Dataset downloaded!, the name of the time series is: Index2018.csv\")\n",
    "download_ts()\n",
    "###pick up ftse column here! and work with difference instead of the time series itself.\n"
   ]
  },
  {
   "cell_type": "code",
   "execution_count": 17,
   "id": "87f538cc",
   "metadata": {},
   "outputs": [],
   "source": [
    "data = pd.read_csv('Index2018.csv')"
   ]
  },
  {
   "cell_type": "code",
   "execution_count": 21,
   "id": "2486f4d6",
   "metadata": {},
   "outputs": [],
   "source": [
    "ts_ = ts.pct_change(1)*100"
   ]
  }
 ],
 "metadata": {
  "kernelspec": {
   "display_name": "Python 3 (ipykernel)",
   "language": "python",
   "name": "python3"
  },
  "language_info": {
   "codemirror_mode": {
    "name": "ipython",
    "version": 3
   },
   "file_extension": ".py",
   "mimetype": "text/x-python",
   "name": "python",
   "nbconvert_exporter": "python",
   "pygments_lexer": "ipython3",
   "version": "3.9.12"
  }
 },
 "nbformat": 4,
 "nbformat_minor": 5
}
