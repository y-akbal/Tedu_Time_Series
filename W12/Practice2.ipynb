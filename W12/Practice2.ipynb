{
 "cells": [
  {
   "cell_type": "markdown",
   "metadata": {
    "id": "61NpnjopuOQs"
   },
   "source": [
    "[![Open in Colab](https://colab.research.google.com/assets/colab-badge.svg)](https://colab.research.google.com/github/y-akbal/Tedu_Time_Series/blob/main/W12/Practice2.ipynb)\n"
   ]
  },
  {
   "cell_type": "code",
   "execution_count": 1,
   "metadata": {
    "id": "ZCj86SEODhJQ"
   },
   "outputs": [],
   "source": [
    "import os\n",
    "import seaborn as sns\n",
    "import matplotlib.pyplot as plt\n",
    "import numpy as np\n",
    "import pandas as pd\n",
    "import statsmodels"
   ]
  },
  {
   "cell_type": "code",
   "execution_count": 2,
   "metadata": {
    "colab": {
     "base_uri": "https://localhost:8080/"
    },
    "id": "1CXkUI-82LJb",
    "outputId": "2a57c0db-bf7d-4d9b-a9bc-8e648fe65670"
   },
   "outputs": [
    {
     "name": "stdout",
     "output_type": "stream",
     "text": [
      "--2022-12-16 08:20:01--  https://faculty.chicagobooth.edu/-/media/faculty/ruey-s-tsay/teaching/introts/ch3data.zip\n",
      "Resolving faculty.chicagobooth.edu (faculty.chicagobooth.edu)... 128.135.211.142\n",
      "Connecting to faculty.chicagobooth.edu (faculty.chicagobooth.edu)|128.135.211.142|:443... connected.\n",
      "HTTP request sent, awaiting response... 200 OK\n",
      "Length: 32930 (32K) [application/x-zip-compressed]\n",
      "Saving to: ‘ch3data.zip’\n",
      "\n",
      "ch3data.zip         100%[===================>]  32.16K  --.-KB/s    in 0.07s   \n",
      "\n",
      "2022-12-16 08:20:02 (461 KB/s) - ‘ch3data.zip’ saved [32930/32930]\n",
      "\n",
      "Archive:  /content/ch3data.zip\n",
      "  inflating: /content/ch3data/m-CAUS-7611.txt  \n",
      "  inflating: /content/ch3data/m-GLBTs.txt  \n",
      "  inflating: /content/ch3data/m-morgfed-7111.txt  \n",
      "  inflating: /content/ch3data/m-ncdc-noaa-glbtemp.txt  \n",
      "  inflating: /content/ch3data/m-unrate.txt  \n",
      "  inflating: /content/ch3data/m-unrateic.txt  \n",
      "  inflating: /content/ch3data/w-gasoline.txt  \n",
      "  inflating: /content/ch3data/w-petroprice.txt  \n"
     ]
    }
   ],
   "source": [
    "def download_data():  ### This dude will download the dataset from the directory directly!\n",
    "  !wget https://faculty.chicagobooth.edu/-/media/faculty/ruey-s-tsay/teaching/introts/ch3data.zip\n",
    "  !unzip \"/content/ch3data.zip\" -d \"/content/ch3data/\"\n",
    "\n",
    "  if not os.getcwd() == '/content/ch3data':\n",
    "    os.chdir(\"ch3data\")\n",
    "  else:\n",
    "    print(f\"Current directory is now {os.getcwd()}\")\n",
    "\n",
    "download_data()"
   ]
  }
 ],
 "metadata": {
  "colab": {
   "provenance": []
  },
  "kernelspec": {
   "display_name": "Python 3 (ipykernel)",
   "language": "python",
   "name": "python3"
  },
  "language_info": {
   "codemirror_mode": {
    "name": "ipython",
    "version": 3
   },
   "file_extension": ".py",
   "mimetype": "text/x-python",
   "name": "python",
   "nbconvert_exporter": "python",
   "pygments_lexer": "ipython3",
   "version": "3.9.12"
  }
 },
 "nbformat": 4,
 "nbformat_minor": 1
}
