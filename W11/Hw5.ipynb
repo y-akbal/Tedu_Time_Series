{
  "nbformat": 4,
  "nbformat_minor": 0,
  "metadata": {
    "colab": {
      "provenance": []
    },
    "kernelspec": {
      "name": "python3",
      "display_name": "Python 3"
    },
    "language_info": {
      "name": "python"
    }
  },
  "cells": [
    {
      "cell_type": "markdown",
      "source": [
        "\n",
        "[![Open in Colab](https://colab.research.google.com/assets/colab-badge.svg)](https://colab.research.google.com/github/y-akbal/Tedu_Time_Series/blob/main/W11/Hw5.ipynb)\n",
        "\n",
        "\n",
        "\n"
      ],
      "metadata": {
        "id": "5qh3UrWzB-zL"
      }
    },
    {
      "cell_type": "code",
      "execution_count": 1,
      "metadata": {
        "id": "_IRWx5a3BwmN"
      },
      "outputs": [],
      "source": [
        "import os\n",
        "import matplotlib.pyplot as plt\n",
        "import numpy as np\n",
        "import pandas as pd"
      ]
    },
    {
      "cell_type": "code",
      "source": [
        "def download_data():  ### This dude will download the dataset from the directory directly!\n",
        "  import requests\n",
        "  url = \"https://raw.githubusercontent.com/y-akbal/Tedu_Time_Series/main/W11/hw.csv\"\n",
        "  res = requests.get(url, allow_redirects=True)\n",
        "  with open('hw.csv','wb') as file:\n",
        "    file.write(res.content)\n",
        "\n",
        "download_data()  "
      ],
      "metadata": {
        "id": "n5dJRaLvCGky"
      },
      "execution_count": 54,
      "outputs": []
    },
    {
      "cell_type": "code",
      "source": [
        "data = pd.read_csv(\"hw.csv\")"
      ],
      "metadata": {
        "id": "YIDVqXffCLBu"
      },
      "execution_count": 55,
      "outputs": []
    },
    {
      "cell_type": "code",
      "source": [
        "data = data.iloc[:,-1]### we pick up the last column"
      ],
      "metadata": {
        "id": "oka4kdp_DtpJ"
      },
      "execution_count": 56,
      "outputs": []
    },
    {
      "cell_type": "code",
      "source": [
        "from statsmodels.graphics.tsaplots import plot_pacf, plot_acf"
      ],
      "metadata": {
        "id": "zOSSYCUZVZqn"
      },
      "execution_count": 57,
      "outputs": []
    },
    {
      "cell_type": "code",
      "source": [
        "plot_pacf(data, lags = 50);     ##### by looking at this data what do you say?"
      ],
      "metadata": {
        "id": "4q8YExgjVmH4",
        "outputId": "7437af09-4675-4d36-a580-63c9ab1dad10",
        "colab": {
          "base_uri": "https://localhost:8080/",
          "height": 281
        }
      },
      "execution_count": 60,
      "outputs": [
        {
          "output_type": "display_data",
          "data": {
            "text/plain": [
              "<Figure size 432x288 with 1 Axes>"
            ],
            "image/png": "[encoded data removed]"
          },
          "metadata": {
            "needs_background": "light"
          }
        }
      ]
    },
    {
      "cell_type": "code",
      "source": [
        "plt.plot(data)  #### data has some seasonal components but we do not care about this!"
      ],
      "metadata": {
        "id": "QZgeMfq8WkW0",
        "outputId": "f509c001-8dd4-48a6-b9e6-649575a5363c",
        "colab": {
          "base_uri": "https://localhost:8080/",
          "height": 285
        }
      },
      "execution_count": 59,
      "outputs": [
        {
          "output_type": "execute_result",
          "data": {
            "text/plain": [
              "[<matplotlib.lines.Line2D at 0x7fde5e311f70>]"
            ]
          },
          "metadata": {},
          "execution_count": 59
        },
        {
          "output_type": "display_data",
          "data": {
            "text/plain": [
              "<Figure size 432x288 with 1 Axes>"
            ],
            "image/png": "[encoded data removed]"
          },
          "metadata": {
            "needs_background": "light"
          }
        }
      ]
    },
    {
      "cell_type": "markdown",
      "source": [
        "#\n",
        "Split into test and train\n",
        "#"
      ],
      "metadata": {
        "id": "_QdzKu_KS_6b"
      }
    },
    {
      "cell_type": "code",
      "source": [
        "n = len(data)\n",
        "alpha = 0.8 ### where to split the data\n",
        "N = int(n*alpha)\n",
        "train = data[:N]\n",
        "test = data[N:]"
      ],
      "metadata": {
        "id": "QYn-GLy5SxNX"
      },
      "execution_count": 9,
      "outputs": []
    },
    {
      "cell_type": "markdown",
      "source": [
        "##\n",
        "Splitting each data into $X,y$\n",
        "##"
      ],
      "metadata": {
        "id": "PfyoVyi2TZ9d"
      }
    },
    {
      "cell_type": "code",
      "source": [
        "def sliding_window(data_, lag_size = 50):  #### we picked the 50 here basically by looking at the first picture.\n",
        "  N = len(data_)\n",
        "  data = np.array(data_)\n",
        "  X = []\n",
        "  y = []\n",
        "  for i in range(N-lag_size-1):\n",
        "    X.append(data[i:i+lag_size])\n",
        "    y.append(data[i+lag_size])\n",
        "  return np.array(X), np.array(y)"
      ],
      "metadata": {
        "id": "u4wLpYRCTJWC"
      },
      "execution_count": 36,
      "outputs": []
    },
    {
      "cell_type": "code",
      "source": [
        "X_train, y_train = sliding_window(train, 50)\n",
        "X_test, y_test = sliding_window(test, 50)"
      ],
      "metadata": {
        "id": "Ll_h6yOUUCkI"
      },
      "execution_count": 61,
      "outputs": []
    },
    {
      "cell_type": "code",
      "source": [
        "import sklearn  #### initial guess, see what we can get for free!!!!\n",
        "from sklearn.neighbors import KNeighborsRegressor\n",
        "knn = KNeighborsRegressor(n_jobs = -1)\n",
        "knn.fit(X_train, y_train),\n",
        "knn.score(X_test, y_test)"
      ],
      "metadata": {
        "id": "Ac9lgZ-QVALY",
        "outputId": "824e95b1-5836-4fb0-ebff-a79f99be7eac",
        "colab": {
          "base_uri": "https://localhost:8080/"
        }
      },
      "execution_count": 87,
      "outputs": [
        {
          "output_type": "execute_result",
          "data": {
            "text/plain": [
              "0.5669886587501936"
            ]
          },
          "metadata": {},
          "execution_count": 87
        }
      ]
    },
    {
      "cell_type": "code",
      "source": [
        "from sklearn.neural_network import MLPRegressor #### ok WE may expect something like 0.70 may be?? on cross validation\n",
        "mlp = MLPRegressor()\n",
        "mlp.fit(X_train, y_train)\n",
        "mlp.score(X_test, y_test)"
      ],
      "metadata": {
        "id": "hAefZKTAVEY-",
        "outputId": "444dfe72-30fd-4dc4-cef4-2ac5a4dd6670",
        "colab": {
          "base_uri": "https://localhost:8080/"
        }
      },
      "execution_count": 68,
      "outputs": [
        {
          "output_type": "execute_result",
          "data": {
            "text/plain": [
              "0.702342391410836"
            ]
          },
          "metadata": {},
          "execution_count": 68
        }
      ]
    },
    {
      "cell_type": "markdown",
      "source": [
        "##We know use time series generator guy!"
      ],
      "metadata": {
        "id": "Q2rcepwUX6qm"
      }
    },
    {
      "cell_type": "code",
      "source": [
        "from sklearn.model_selection import GridSearchCV, TimeSeriesSplit"
      ],
      "metadata": {
        "id": "75E3eUtzX9YX"
      },
      "execution_count": 66,
      "outputs": []
    },
    {
      "cell_type": "code",
      "source": [
        "splitter = TimeSeriesSplit(n_splits = 5) #### this is the cross validation object"
      ],
      "metadata": {
        "id": "PaT6CjejX58w"
      },
      "execution_count": 72,
      "outputs": []
    },
    {
      "cell_type": "code",
      "source": [
        "knn_params = {\"n_neighbors\":range(3,7), \"weights\":[\"uniform\", \"distance\"]}  ### parameters of knn\n",
        "mlp_params = {\"hidden_layer_sizes\":range(5, 40)}"
      ],
      "metadata": {
        "id": "YZH1xeGdYNvl"
      },
      "execution_count": 94,
      "outputs": []
    },
    {
      "cell_type": "markdown",
      "source": [
        "## Here the cross validation is to be managed by time series split object!"
      ],
      "metadata": {
        "id": "7X94g1Mod1nG"
      }
    },
    {
      "cell_type": "code",
      "source": [
        "cv = GridSearchCV(mlp, param_grid = mlp_params, n_jobs = -1, cv = splitter)\n",
        "cv.fit(X_train, y_train)"
      ],
      "metadata": {
        "id": "HuIjV3VRXaWh",
        "outputId": "f0afc076-0a36-4e60-9917-050563d600af",
        "colab": {
          "base_uri": "https://localhost:8080/"
        }
      },
      "execution_count": 95,
      "outputs": [
        {
          "output_type": "execute_result",
          "data": {
            "text/plain": [
              "GridSearchCV(cv=TimeSeriesSplit(gap=0, max_train_size=None, n_splits=5, test_size=None),\n",
              "             estimator=MLPRegressor(), n_jobs=-1,\n",
              "             param_grid={'hidden_layer_sizes': range(5, 40)})"
            ]
          },
          "metadata": {},
          "execution_count": 95
        }
      ]
    },
    {
      "cell_type": "code",
      "source": [
        "cv.best_params_"
      ],
      "metadata": {
        "id": "E5oAbKdrc6tv",
        "outputId": "93df20fc-0503-4c1f-ee8b-658e694b7d1b",
        "colab": {
          "base_uri": "https://localhost:8080/"
        }
      },
      "execution_count": 96,
      "outputs": [
        {
          "output_type": "execute_result",
          "data": {
            "text/plain": [
              "{'hidden_layer_sizes': 34}"
            ]
          },
          "metadata": {},
          "execution_count": 96
        }
      ]
    },
    {
      "cell_type": "code",
      "source": [
        "mlp_best = MLPRegressor(34)  #### we are good!\n",
        "mlp_best.fit(X_train, y_train)\n",
        "mlp_best.score(X_test, y_test)"
      ],
      "metadata": {
        "id": "QyZIUV0Gc9VD",
        "outputId": "356fa15e-f7e3-4f06-81d7-ad832fbef704",
        "colab": {
          "base_uri": "https://localhost:8080/"
        }
      },
      "execution_count": 97,
      "outputs": [
        {
          "output_type": "execute_result",
          "data": {
            "text/plain": [
              "0.7184631306724077"
            ]
          },
          "metadata": {},
          "execution_count": 97
        }
      ]
    },
    {
      "cell_type": "code",
      "source": [
        "cv = GridSearchCV(knn, param_grid = knn_params, n_jobs = -1, cv = splitter)  #### this takes a lot of time... gotta wait.\n",
        "cv.fit(X_train, y_train)"
      ],
      "metadata": {
        "id": "TUK_27KadQ_y",
        "outputId": "e44f0227-3498-4b60-965e-1272b4beff5f",
        "colab": {
          "base_uri": "https://localhost:8080/"
        }
      },
      "execution_count": 89,
      "outputs": [
        {
          "output_type": "execute_result",
          "data": {
            "text/plain": [
              "GridSearchCV(cv=TimeSeriesSplit(gap=0, max_train_size=None, n_splits=5, test_size=None),\n",
              "             estimator=KNeighborsRegressor(n_jobs=-1), n_jobs=-1,\n",
              "             param_grid={'n_neighbors': range(3, 7),\n",
              "                         'weights': ['uniform', 'distance']})"
            ]
          },
          "metadata": {},
          "execution_count": 89
        }
      ]
    },
    {
      "cell_type": "code",
      "source": [
        "cv.best_params_"
      ],
      "metadata": {
        "id": "CPpMLweIdTMw",
        "outputId": "5d6f90bd-b01b-4f5c-fa7c-15ee2e973209",
        "colab": {
          "base_uri": "https://localhost:8080/"
        }
      },
      "execution_count": 90,
      "outputs": [
        {
          "output_type": "execute_result",
          "data": {
            "text/plain": [
              "{'n_neighbors': 6, 'weights': 'uniform'}"
            ]
          },
          "metadata": {},
          "execution_count": 90
        }
      ]
    },
    {
      "cell_type": "code",
      "source": [
        "knn = KNeighborsRegressor(**cv.best_params_) ### nothing really important!!!! \n",
        "knn.fit(X_train, y_train)\n",
        "knn.score(X_test, y_test)"
      ],
      "metadata": {
        "id": "a86pfkIqkJo8",
        "outputId": "d0802498-e88e-4b81-bfc2-ef36dd565da0",
        "colab": {
          "base_uri": "https://localhost:8080/"
        }
      },
      "execution_count": 93,
      "outputs": [
        {
          "output_type": "execute_result",
          "data": {
            "text/plain": [
              "0.5807890365262658"
            ]
          },
          "metadata": {},
          "execution_count": 93
        }
      ]
    }
  ]
}