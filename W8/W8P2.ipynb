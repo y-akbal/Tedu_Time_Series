{
  "nbformat": 4,
  "nbformat_minor": 0,
  "metadata": {
    "colab": {
      "provenance": []
    },
    "kernelspec": {
      "name": "python3",
      "display_name": "Python 3"
    },
    "language_info": {
      "name": "python"
    }
  },
  "cells": [
    {
      "cell_type": "markdown",
      "source": [
        "\n",
        "[![Open in Colab](https://colab.research.google.com/assets/colab-badge.svg)](https://colab.research.google.com/github/y-akbal/Tedu_Time_Series/blob/main/W8/W8P2.ipynb)\n",
        "\n",
        "\n",
        "\n"
      ],
      "metadata": {
        "id": "Q7ODf16qwClj"
      }
    },
    {
      "cell_type": "code",
      "execution_count": 1,
      "metadata": {
        "id": "PdGge3sANLaV"
      },
      "outputs": [],
      "source": [
        "import os\n",
        "import matplotlib.pyplot as plt\n",
        "import numpy as np\n",
        "import pandas as pd"
      ]
    },
    {
      "cell_type": "code",
      "source": [
        "def download_data():  ### This dude will download the dataset from the directory directly!\n",
        "  import requests\n",
        "  url = \"https://raw.githubusercontent.com/y-akbal/Tedu_Time_Series/main/W8/combined_csv.csv\"\n",
        "  res = requests.get(url, allow_redirects=True)\n",
        "  with open('combined_csv.csv','wb') as file:\n",
        "    file.write(res.content)\n",
        "\n",
        "download_data()  "
      ],
      "metadata": {
        "id": "25C2B3wRv6zi"
      },
      "execution_count": 2,
      "outputs": []
    },
    {
      "cell_type": "markdown",
      "source": [
        "### See [the link text](https://www.kaggle.com/datasets/ibrahimkiziloklu/solar-radiation-dataset) for the description of the dataset."
      ],
      "metadata": {
        "id": "y83uRCFoSWQF"
      }
    },
    {
      "cell_type": "code",
      "source": [
        "data_ = pd.read_csv(\"combined_csv.csv\")\n",
        " #### we will use the windspeed"
      ],
      "metadata": {
        "id": "D0DRD-ZlQvmF"
      },
      "execution_count": 3,
      "outputs": []
    },
    {
      "cell_type": "code",
      "source": [
        "data_"
      ],
      "metadata": {
        "colab": {
          "base_uri": "https://localhost:8080/",
          "height": 468
        },
        "id": "GrRmLvxmQ6X-",
        "outputId": "43db67e5-9646-4876-d431-1773c209bfd1"
      },
      "execution_count": 4,
      "outputs": [
        {
          "output_type": "execute_result",
          "data": {
            "text/plain": [
              "        Year  Month  Day  Hour  Minute  Temperature  Clearsky DHI  \\\n",
              "0       2017      1    1     0       0         -0.6             0   \n",
              "1       2017      1    1     0      15         -0.6             0   \n",
              "2       2017      1    1     0      30         -0.6             0   \n",
              "3       2017      1    1     0      45         -0.6             0   \n",
              "4       2017      1    1     1       0         -0.7             0   \n",
              "...      ...    ...  ...   ...     ...          ...           ...   \n",
              "105115  2019     12   31    22      45          4.0             0   \n",
              "105116  2019     12   31    23       0          3.9             0   \n",
              "105117  2019     12   31    23      15          3.9             0   \n",
              "105118  2019     12   31    23      30          3.9             0   \n",
              "105119  2019     12   31    23      45          3.9             0   \n",
              "\n",
              "        Clearsky DNI  Clearsky GHI  Dew Point  DHI  DNI  GHI  \\\n",
              "0                  0             0       -2.6    0    0    0   \n",
              "1                  0             0       -2.6    0    0    0   \n",
              "2                  0             0       -2.6    0    0    0   \n",
              "3                  0             0       -2.7    0    0    0   \n",
              "4                  0             0       -2.7    0    0    0   \n",
              "...              ...           ...        ...  ...  ...  ...   \n",
              "105115             0             0        4.0    0    0    0   \n",
              "105116             0             0        3.9    0    0    0   \n",
              "105117             0             0        3.9    0    0    0   \n",
              "105118             0             0        3.9    0    0    0   \n",
              "105119             0             0        3.9    0    0    0   \n",
              "\n",
              "        Relative Humidity  Solar Zenith Angle  Surface Albedo  Pressure  \\\n",
              "0                   86.29              152.92            0.12      1003   \n",
              "1                   86.29              150.22            0.12      1003   \n",
              "2                   86.29              147.43            0.12      1003   \n",
              "3                   85.54              144.60            0.12      1003   \n",
              "4                   86.17              141.71            0.12      1003   \n",
              "...                   ...                 ...             ...       ...   \n",
              "105115             100.00              163.63            0.12       999   \n",
              "105116             100.00              162.09            0.12       999   \n",
              "105117             100.00              160.16            0.12       999   \n",
              "105118             100.00              157.93            0.12       999   \n",
              "105119             100.00              155.48            0.12       999   \n",
              "\n",
              "        Wind Speed  Unnamed: 18  \n",
              "0              1.7          NaN  \n",
              "1              1.7          NaN  \n",
              "2              1.7          NaN  \n",
              "3              1.6          NaN  \n",
              "4              1.6          NaN  \n",
              "...            ...          ...  \n",
              "105115         2.0          NaN  \n",
              "105116         2.0          NaN  \n",
              "105117         2.0          NaN  \n",
              "105118         2.0          NaN  \n",
              "105119         2.0          NaN  \n",
              "\n",
              "[105120 rows x 19 columns]"
            ],
            "text/html": [
              "\n",
              "  <div id=\"df-76b49a98-f2d9-4506-9be7-ac865044ce86\">\n",
              "    <div class=\"colab-df-container\">\n",
              "      <div>\n",
              "<style scoped>\n",
              "    .dataframe tbody tr th:only-of-type {\n",
              "        vertical-align: middle;\n",
              "    }\n",
              "\n",
              "    .dataframe tbody tr th {\n",
              "        vertical-align: top;\n",
              "    }\n",
              "\n",
              "    .dataframe thead th {\n",
              "        text-align: right;\n",
              "    }\n",
              "</style>\n",
              "<table border=\"1\" class=\"dataframe\">\n",
              "  <thead>\n",
              "    <tr style=\"text-align: right;\">\n",
              "      <th></th>\n",
              "      <th>Year</th>\n",
              "      <th>Month</th>\n",
              "      <th>Day</th>\n",
              "      <th>Hour</th>\n",
              "      <th>Minute</th>\n",
              "      <th>Temperature</th>\n",
              "      <th>Clearsky DHI</th>\n",
              "      <th>Clearsky DNI</th>\n",
              "      <th>Clearsky GHI</th>\n",
              "      <th>Dew Point</th>\n",
              "      <th>DHI</th>\n",
              "      <th>DNI</th>\n",
              "      <th>GHI</th>\n",
              "      <th>Relative Humidity</th>\n",
              "      <th>Solar Zenith Angle</th>\n",
              "      <th>Surface Albedo</th>\n",
              "      <th>Pressure</th>\n",
              "      <th>Wind Speed</th>\n",
              "      <th>Unnamed: 18</th>\n",
              "    </tr>\n",
              "  </thead>\n",
              "  <tbody>\n",
              "    <tr>\n",
              "      <th>0</th>\n",
              "      <td>2017</td>\n",
              "      <td>1</td>\n",
              "      <td>1</td>\n",
              "      <td>0</td>\n",
              "      <td>0</td>\n",
              "      <td>-0.6</td>\n",
              "      <td>0</td>\n",
              "      <td>0</td>\n",
              "      <td>0</td>\n",
              "      <td>-2.6</td>\n",
              "      <td>0</td>\n",
              "      <td>0</td>\n",
              "      <td>0</td>\n",
              "      <td>86.29</td>\n",
              "      <td>152.92</td>\n",
              "      <td>0.12</td>\n",
              "      <td>1003</td>\n",
              "      <td>1.7</td>\n",
              "      <td>NaN</td>\n",
              "    </tr>\n",
              "    <tr>\n",
              "      <th>1</th>\n",
              "      <td>2017</td>\n",
              "      <td>1</td>\n",
              "      <td>1</td>\n",
              "      <td>0</td>\n",
              "      <td>15</td>\n",
              "      <td>-0.6</td>\n",
              "      <td>0</td>\n",
              "      <td>0</td>\n",
              "      <td>0</td>\n",
              "      <td>-2.6</td>\n",
              "      <td>0</td>\n",
              "      <td>0</td>\n",
              "      <td>0</td>\n",
              "      <td>86.29</td>\n",
              "      <td>150.22</td>\n",
              "      <td>0.12</td>\n",
              "      <td>1003</td>\n",
              "      <td>1.7</td>\n",
              "      <td>NaN</td>\n",
              "    </tr>\n",
              "    <tr>\n",
              "      <th>2</th>\n",
              "      <td>2017</td>\n",
              "      <td>1</td>\n",
              "      <td>1</td>\n",
              "      <td>0</td>\n",
              "      <td>30</td>\n",
              "      <td>-0.6</td>\n",
              "      <td>0</td>\n",
              "      <td>0</td>\n",
              "      <td>0</td>\n",
              "      <td>-2.6</td>\n",
              "      <td>0</td>\n",
              "      <td>0</td>\n",
              "      <td>0</td>\n",
              "      <td>86.29</td>\n",
              "      <td>147.43</td>\n",
              "      <td>0.12</td>\n",
              "      <td>1003</td>\n",
              "      <td>1.7</td>\n",
              "      <td>NaN</td>\n",
              "    </tr>\n",
              "    <tr>\n",
              "      <th>3</th>\n",
              "      <td>2017</td>\n",
              "      <td>1</td>\n",
              "      <td>1</td>\n",
              "      <td>0</td>\n",
              "      <td>45</td>\n",
              "      <td>-0.6</td>\n",
              "      <td>0</td>\n",
              "      <td>0</td>\n",
              "      <td>0</td>\n",
              "      <td>-2.7</td>\n",
              "      <td>0</td>\n",
              "      <td>0</td>\n",
              "      <td>0</td>\n",
              "      <td>85.54</td>\n",
              "      <td>144.60</td>\n",
              "      <td>0.12</td>\n",
              "      <td>1003</td>\n",
              "      <td>1.6</td>\n",
              "      <td>NaN</td>\n",
              "    </tr>\n",
              "    <tr>\n",
              "      <th>4</th>\n",
              "      <td>2017</td>\n",
              "      <td>1</td>\n",
              "      <td>1</td>\n",
              "      <td>1</td>\n",
              "      <td>0</td>\n",
              "      <td>-0.7</td>\n",
              "      <td>0</td>\n",
              "      <td>0</td>\n",
              "      <td>0</td>\n",
              "      <td>-2.7</td>\n",
              "      <td>0</td>\n",
              "      <td>0</td>\n",
              "      <td>0</td>\n",
              "      <td>86.17</td>\n",
              "      <td>141.71</td>\n",
              "      <td>0.12</td>\n",
              "      <td>1003</td>\n",
              "      <td>1.6</td>\n",
              "      <td>NaN</td>\n",
              "    </tr>\n",
              "    <tr>\n",
              "      <th>...</th>\n",
              "      <td>...</td>\n",
              "      <td>...</td>\n",
              "      <td>...</td>\n",
              "      <td>...</td>\n",
              "      <td>...</td>\n",
              "      <td>...</td>\n",
              "      <td>...</td>\n",
              "      <td>...</td>\n",
              "      <td>...</td>\n",
              "      <td>...</td>\n",
              "      <td>...</td>\n",
              "      <td>...</td>\n",
              "      <td>...</td>\n",
              "      <td>...</td>\n",
              "      <td>...</td>\n",
              "      <td>...</td>\n",
              "      <td>...</td>\n",
              "      <td>...</td>\n",
              "      <td>...</td>\n",
              "    </tr>\n",
              "    <tr>\n",
              "      <th>105115</th>\n",
              "      <td>2019</td>\n",
              "      <td>12</td>\n",
              "      <td>31</td>\n",
              "      <td>22</td>\n",
              "      <td>45</td>\n",
              "      <td>4.0</td>\n",
              "      <td>0</td>\n",
              "      <td>0</td>\n",
              "      <td>0</td>\n",
              "      <td>4.0</td>\n",
              "      <td>0</td>\n",
              "      <td>0</td>\n",
              "      <td>0</td>\n",
              "      <td>100.00</td>\n",
              "      <td>163.63</td>\n",
              "      <td>0.12</td>\n",
              "      <td>999</td>\n",
              "      <td>2.0</td>\n",
              "      <td>NaN</td>\n",
              "    </tr>\n",
              "    <tr>\n",
              "      <th>105116</th>\n",
              "      <td>2019</td>\n",
              "      <td>12</td>\n",
              "      <td>31</td>\n",
              "      <td>23</td>\n",
              "      <td>0</td>\n",
              "      <td>3.9</td>\n",
              "      <td>0</td>\n",
              "      <td>0</td>\n",
              "      <td>0</td>\n",
              "      <td>3.9</td>\n",
              "      <td>0</td>\n",
              "      <td>0</td>\n",
              "      <td>0</td>\n",
              "      <td>100.00</td>\n",
              "      <td>162.09</td>\n",
              "      <td>0.12</td>\n",
              "      <td>999</td>\n",
              "      <td>2.0</td>\n",
              "      <td>NaN</td>\n",
              "    </tr>\n",
              "    <tr>\n",
              "      <th>105117</th>\n",
              "      <td>2019</td>\n",
              "      <td>12</td>\n",
              "      <td>31</td>\n",
              "      <td>23</td>\n",
              "      <td>15</td>\n",
              "      <td>3.9</td>\n",
              "      <td>0</td>\n",
              "      <td>0</td>\n",
              "      <td>0</td>\n",
              "      <td>3.9</td>\n",
              "      <td>0</td>\n",
              "      <td>0</td>\n",
              "      <td>0</td>\n",
              "      <td>100.00</td>\n",
              "      <td>160.16</td>\n",
              "      <td>0.12</td>\n",
              "      <td>999</td>\n",
              "      <td>2.0</td>\n",
              "      <td>NaN</td>\n",
              "    </tr>\n",
              "    <tr>\n",
              "      <th>105118</th>\n",
              "      <td>2019</td>\n",
              "      <td>12</td>\n",
              "      <td>31</td>\n",
              "      <td>23</td>\n",
              "      <td>30</td>\n",
              "      <td>3.9</td>\n",
              "      <td>0</td>\n",
              "      <td>0</td>\n",
              "      <td>0</td>\n",
              "      <td>3.9</td>\n",
              "      <td>0</td>\n",
              "      <td>0</td>\n",
              "      <td>0</td>\n",
              "      <td>100.00</td>\n",
              "      <td>157.93</td>\n",
              "      <td>0.12</td>\n",
              "      <td>999</td>\n",
              "      <td>2.0</td>\n",
              "      <td>NaN</td>\n",
              "    </tr>\n",
              "    <tr>\n",
              "      <th>105119</th>\n",
              "      <td>2019</td>\n",
              "      <td>12</td>\n",
              "      <td>31</td>\n",
              "      <td>23</td>\n",
              "      <td>45</td>\n",
              "      <td>3.9</td>\n",
              "      <td>0</td>\n",
              "      <td>0</td>\n",
              "      <td>0</td>\n",
              "      <td>3.9</td>\n",
              "      <td>0</td>\n",
              "      <td>0</td>\n",
              "      <td>0</td>\n",
              "      <td>100.00</td>\n",
              "      <td>155.48</td>\n",
              "      <td>0.12</td>\n",
              "      <td>999</td>\n",
              "      <td>2.0</td>\n",
              "      <td>NaN</td>\n",
              "    </tr>\n",
              "  </tbody>\n",
              "</table>\n",
              "<p>105120 rows × 19 columns</p>\n",
              "</div>\n",
              "      <button class=\"colab-df-convert\" onclick=\"convertToInteractive('df-76b49a98-f2d9-4506-9be7-ac865044ce86')\"\n",
              "              title=\"Convert this dataframe to an interactive table.\"\n",
              "              style=\"display:none;\">\n",
              "        \n",
              "  <svg xmlns=\"http://www.w3.org/2000/svg\" height=\"24px\"viewBox=\"0 0 24 24\"\n",
              "       width=\"24px\">\n",
              "    <path d=\"M0 0h24v24H0V0z\" fill=\"none\"/>\n",
              "    <path d=\"M18.56 5.44l.94 2.06.94-2.06 2.06-.94-2.06-.94-.94-2.06-.94 2.06-2.06.94zm-11 1L8.5 8.5l.94-2.06 2.06-.94-2.06-.94L8.5 2.5l-.94 2.06-2.06.94zm10 10l.94 2.06.94-2.06 2.06-.94-2.06-.94-.94-2.06-.94 2.06-2.06.94z\"/><path d=\"M17.41 7.96l-1.37-1.37c-.4-.4-.92-.59-1.43-.59-.52 0-1.04.2-1.43.59L10.3 9.45l-7.72 7.72c-.78.78-.78 2.05 0 2.83L4 21.41c.39.39.9.59 1.41.59.51 0 1.02-.2 1.41-.59l7.78-7.78 2.81-2.81c.8-.78.8-2.07 0-2.86zM5.41 20L4 18.59l7.72-7.72 1.47 1.35L5.41 20z\"/>\n",
              "  </svg>\n",
              "      </button>\n",
              "      \n",
              "  <style>\n",
              "    .colab-df-container {\n",
              "      display:flex;\n",
              "      flex-wrap:wrap;\n",
              "      gap: 12px;\n",
              "    }\n",
              "\n",
              "    .colab-df-convert {\n",
              "      background-color: #E8F0FE;\n",
              "      border: none;\n",
              "      border-radius: 50%;\n",
              "      cursor: pointer;\n",
              "      display: none;\n",
              "      fill: #1967D2;\n",
              "      height: 32px;\n",
              "      padding: 0 0 0 0;\n",
              "      width: 32px;\n",
              "    }\n",
              "\n",
              "    .colab-df-convert:hover {\n",
              "      background-color: #E2EBFA;\n",
              "      box-shadow: 0px 1px 2px rgba(60, 64, 67, 0.3), 0px 1px 3px 1px rgba(60, 64, 67, 0.15);\n",
              "      fill: #174EA6;\n",
              "    }\n",
              "\n",
              "    [theme=dark] .colab-df-convert {\n",
              "      background-color: #3B4455;\n",
              "      fill: #D2E3FC;\n",
              "    }\n",
              "\n",
              "    [theme=dark] .colab-df-convert:hover {\n",
              "      background-color: #434B5C;\n",
              "      box-shadow: 0px 1px 3px 1px rgba(0, 0, 0, 0.15);\n",
              "      filter: drop-shadow(0px 1px 2px rgba(0, 0, 0, 0.3));\n",
              "      fill: #FFFFFF;\n",
              "    }\n",
              "  </style>\n",
              "\n",
              "      <script>\n",
              "        const buttonEl =\n",
              "          document.querySelector('#df-76b49a98-f2d9-4506-9be7-ac865044ce86 button.colab-df-convert');\n",
              "        buttonEl.style.display =\n",
              "          google.colab.kernel.accessAllowed ? 'block' : 'none';\n",
              "\n",
              "        async function convertToInteractive(key) {\n",
              "          const element = document.querySelector('#df-76b49a98-f2d9-4506-9be7-ac865044ce86');\n",
              "          const dataTable =\n",
              "            await google.colab.kernel.invokeFunction('convertToInteractive',\n",
              "                                                     [key], {});\n",
              "          if (!dataTable) return;\n",
              "\n",
              "          const docLinkHtml = 'Like what you see? Visit the ' +\n",
              "            '<a target=\"_blank\" href=https://colab.research.google.com/notebooks/data_table.ipynb>data table notebook</a>'\n",
              "            + ' to learn more about interactive tables.';\n",
              "          element.innerHTML = '';\n",
              "          dataTable['output_type'] = 'display_data';\n",
              "          await google.colab.output.renderOutput(dataTable, element);\n",
              "          const docLink = document.createElement('div');\n",
              "          docLink.innerHTML = docLinkHtml;\n",
              "          element.appendChild(docLink);\n",
              "        }\n",
              "      </script>\n",
              "    </div>\n",
              "  </div>\n",
              "  "
            ]
          },
          "metadata": {},
          "execution_count": 4
        }
      ]
    },
    {
      "cell_type": "code",
      "source": [
        "data = data_[\"Wind Speed\"]"
      ],
      "metadata": {
        "id": "FOdGY0D0Q9Pq"
      },
      "execution_count": 5,
      "outputs": []
    },
    {
      "cell_type": "code",
      "source": [
        "plt.plot(data)   #### you see there is not explicit trend, nor unit root."
      ],
      "metadata": {
        "colab": {
          "base_uri": "https://localhost:8080/",
          "height": 282
        },
        "id": "CSgJF9qxRBzh",
        "outputId": "467dd1ad-87d5-4dbc-acf7-7dc731df7f35"
      },
      "execution_count": 6,
      "outputs": [
        {
          "output_type": "execute_result",
          "data": {
            "text/plain": [
              "[<matplotlib.lines.Line2D at 0x7f6587ce5370>]"
            ]
          },
          "metadata": {},
          "execution_count": 6
        },
        {
          "output_type": "display_data",
          "data": {
            "text/plain": [
              "<Figure size 432x288 with 1 Axes>"
            ],
            "image/png": "[encoded data removed]"
          },
          "metadata": {
            "needs_background": "light"
          }
        }
      ]
    },
    {
      "cell_type": "code",
      "source": [
        "import statsmodels"
      ],
      "metadata": {
        "id": "cEG4wCIYIaIw"
      },
      "execution_count": 7,
      "outputs": []
    },
    {
      "cell_type": "code",
      "source": [
        "from statsmodels.graphics.tsaplots import plot_acf, plot_pacf"
      ],
      "metadata": {
        "id": "hc4fGZ0MI_kw"
      },
      "execution_count": 8,
      "outputs": []
    },
    {
      "cell_type": "code",
      "source": [
        "plot_pacf(data); #AR(10) appears to be ok..."
      ],
      "metadata": {
        "colab": {
          "base_uri": "https://localhost:8080/",
          "height": 281
        },
        "id": "MeAY6pdZJQCd",
        "outputId": "453c5e5c-c34e-4e64-f9c7-d94877a01a3c"
      },
      "execution_count": 9,
      "outputs": [
        {
          "output_type": "display_data",
          "data": {
            "text/plain": [
              "<Figure size 432x288 with 1 Axes>"
            ],
            "image/png": "[encoded data removed]"
          },
          "metadata": {
            "needs_background": "light"
          }
        }
      ]
    },
    {
      "cell_type": "code",
      "source": [
        "from statsmodels.tsa.stattools import arma_order_select_ic\n",
        "arma_order_select_ic(data[:100], max_ar = 12)"
      ],
      "metadata": {
        "colab": {
          "base_uri": "https://localhost:8080/"
        },
        "id": "Oq-fl6X5JiQ2",
        "outputId": "c438c233-831f-41f8-c637-68bc9955dbeb"
      },
      "execution_count": 10,
      "outputs": [
        {
          "output_type": "stream",
          "name": "stderr",
          "text": [
            "/usr/local/lib/python3.8/dist-packages/statsmodels/tsa/arima_model.py:472: FutureWarning: \n",
            "statsmodels.tsa.arima_model.ARMA and statsmodels.tsa.arima_model.ARIMA have\n",
            "been deprecated in favor of statsmodels.tsa.arima.model.ARIMA (note the .\n",
            "between arima and model) and\n",
            "statsmodels.tsa.SARIMAX. These will be removed after the 0.12 release.\n",
            "\n",
            "statsmodels.tsa.arima.model.ARIMA makes use of the statespace framework and\n",
            "is both well tested and maintained.\n",
            "\n",
            "To silence this warning and continue using ARMA and ARIMA until they are\n",
            "removed, use:\n",
            "\n",
            "import warnings\n",
            "warnings.filterwarnings('ignore', 'statsmodels.tsa.arima_model.ARMA',\n",
            "                        FutureWarning)\n",
            "warnings.filterwarnings('ignore', 'statsmodels.tsa.arima_model.ARIMA',\n",
            "                        FutureWarning)\n",
            "\n",
            "  warnings.warn(ARIMA_DEPRECATION_WARN, FutureWarning)\n",
            "/usr/local/lib/python3.8/dist-packages/statsmodels/tsa/tsatools.py:701: RuntimeWarning: overflow encountered in exp\n",
            "  newparams = ((1-np.exp(-params))/(1+np.exp(-params))).copy()\n",
            "/usr/local/lib/python3.8/dist-packages/statsmodels/tsa/tsatools.py:701: RuntimeWarning: invalid value encountered in true_divide\n",
            "  newparams = ((1-np.exp(-params))/(1+np.exp(-params))).copy()\n",
            "/usr/local/lib/python3.8/dist-packages/statsmodels/tsa/tsatools.py:702: RuntimeWarning: overflow encountered in exp\n",
            "  tmp = ((1-np.exp(-params))/(1+np.exp(-params))).copy()\n",
            "/usr/local/lib/python3.8/dist-packages/statsmodels/tsa/tsatools.py:702: RuntimeWarning: invalid value encountered in true_divide\n",
            "  tmp = ((1-np.exp(-params))/(1+np.exp(-params))).copy()\n",
            "/usr/local/lib/python3.8/dist-packages/statsmodels/regression/linear_model.py:1434: RuntimeWarning: invalid value encountered in sqrt\n",
            "  return rho, np.sqrt(sigmasq)\n",
            "/usr/local/lib/python3.8/dist-packages/statsmodels/base/model.py:547: HessianInversionWarning: Inverting hessian failed, no bse or cov_params available\n",
            "  warnings.warn('Inverting hessian failed, no bse or cov_params '\n",
            "/usr/local/lib/python3.8/dist-packages/statsmodels/base/model.py:547: HessianInversionWarning: Inverting hessian failed, no bse or cov_params available\n",
            "  warnings.warn('Inverting hessian failed, no bse or cov_params '\n",
            "/usr/local/lib/python3.8/dist-packages/statsmodels/base/model.py:566: ConvergenceWarning: Maximum Likelihood optimization failed to converge. Check mle_retvals\n",
            "  warnings.warn(\"Maximum Likelihood optimization failed to \"\n",
            "/usr/local/lib/python3.8/dist-packages/statsmodels/tsa/tsatools.py:684: RuntimeWarning: invalid value encountered in arctanh\n",
            "  invarcoefs = 2*np.arctanh(params)\n",
            "/usr/local/lib/python3.8/dist-packages/statsmodels/base/model.py:547: HessianInversionWarning: Inverting hessian failed, no bse or cov_params available\n",
            "  warnings.warn('Inverting hessian failed, no bse or cov_params '\n",
            "/usr/local/lib/python3.8/dist-packages/statsmodels/base/model.py:547: HessianInversionWarning: Inverting hessian failed, no bse or cov_params available\n",
            "  warnings.warn('Inverting hessian failed, no bse or cov_params '\n",
            "/usr/local/lib/python3.8/dist-packages/statsmodels/base/model.py:566: ConvergenceWarning: Maximum Likelihood optimization failed to converge. Check mle_retvals\n",
            "  warnings.warn(\"Maximum Likelihood optimization failed to \"\n",
            "/usr/local/lib/python3.8/dist-packages/statsmodels/base/model.py:547: HessianInversionWarning: Inverting hessian failed, no bse or cov_params available\n",
            "  warnings.warn('Inverting hessian failed, no bse or cov_params '\n"
          ]
        },
        {
          "output_type": "execute_result",
          "data": {
            "text/plain": [
              "{'bic':              0           1           2\n",
              " 0    64.400664  -58.229711 -121.518143\n",
              " 1  -260.016586 -270.242778 -268.964384\n",
              " 2  -277.010406 -287.089619 -283.936682\n",
              " 3  -279.439837 -283.179688 -283.100085\n",
              " 4  -286.184569 -282.360716 -282.905945\n",
              " 5  -281.823168 -280.177388 -277.058493\n",
              " 6  -281.836529 -278.039095 -278.296620\n",
              " 7  -279.375648 -278.440939 -278.130477\n",
              " 8  -279.124682 -275.547362 -276.549506\n",
              " 9  -275.913845 -275.750618 -271.145559\n",
              " 10         NaN -268.765106 -246.857451\n",
              " 11         NaN -267.305925 -263.841257\n",
              " 12         NaN -265.375647 -256.371849, 'bic_min_order': (2, 1)}"
            ]
          },
          "metadata": {},
          "execution_count": 10
        }
      ]
    },
    {
      "cell_type": "code",
      "source": [
        "from statsmodels.tsa.arima.model import  ARIMA\n",
        "mod = ARIMA(data[:1000], order = (20,0,1))\n",
        "model = mod.fit()"
      ],
      "metadata": {
        "colab": {
          "base_uri": "https://localhost:8080/"
        },
        "id": "mRZsj072Kx1n",
        "outputId": "1c814f36-7ad8-478d-d7ab-f2918db63c7e"
      },
      "execution_count": 11,
      "outputs": [
        {
          "output_type": "stream",
          "name": "stderr",
          "text": [
            "/usr/local/lib/python3.8/dist-packages/statsmodels/base/model.py:566: ConvergenceWarning: Maximum Likelihood optimization failed to converge. Check mle_retvals\n",
            "  warnings.warn(\"Maximum Likelihood optimization failed to \"\n"
          ]
        }
      ]
    },
    {
      "cell_type": "code",
      "source": [
        "model.summary()"
      ],
      "metadata": {
        "colab": {
          "base_uri": "https://localhost:8080/",
          "height": 858
        },
        "id": "fszGSqmqM8U2",
        "outputId": "c7068f57-963e-4271-c0a7-5c26dfd734c4"
      },
      "execution_count": 12,
      "outputs": [
        {
          "output_type": "execute_result",
          "data": {
            "text/plain": [
              "<class 'statsmodels.iolib.summary.Summary'>\n",
              "\"\"\"\n",
              "                               SARIMAX Results                                \n",
              "==============================================================================\n",
              "Dep. Variable:             Wind Speed   No. Observations:                 1000\n",
              "Model:                ARIMA(20, 0, 1)   Log Likelihood                1258.000\n",
              "Date:                Thu, 22 Dec 2022   AIC                          -2470.001\n",
              "Time:                        20:13:41   BIC                          -2357.122\n",
              "Sample:                             0   HQIC                         -2427.099\n",
              "                               - 1000                                         \n",
              "Covariance Type:                  opg                                         \n",
              "==============================================================================\n",
              "                 coef    std err          z      P>|z|      [0.025      0.975]\n",
              "------------------------------------------------------------------------------\n",
              "const          3.6286      0.854      4.248      0.000       1.955       5.303\n",
              "ar.L1          1.0280      0.932      1.102      0.270      -0.800       2.856\n",
              "ar.L2          0.3767      1.182      0.319      0.750      -1.939       2.693\n",
              "ar.L3         -0.1698      0.083     -2.052      0.040      -0.332      -0.008\n",
              "ar.L4         -0.0046      0.180     -0.026      0.980      -0.358       0.349\n",
              "ar.L5         -0.1482      0.061     -2.430      0.015      -0.268      -0.029\n",
              "ar.L6         -0.1216      0.156     -0.778      0.437      -0.428       0.185\n",
              "ar.L7          0.0010      0.097      0.011      0.992      -0.189       0.191\n",
              "ar.L8         -0.1027      0.055     -1.879      0.060      -0.210       0.004\n",
              "ar.L9          0.0534      0.116      0.462      0.644      -0.173       0.280\n",
              "ar.L10         0.1189      0.090      1.317      0.188      -0.058       0.296\n",
              "ar.L11         0.0187      0.107      0.175      0.861      -0.191       0.229\n",
              "ar.L12        -0.0259      0.056     -0.458      0.647      -0.136       0.085\n",
              "ar.L13        -0.0515      0.053     -0.972      0.331      -0.155       0.052\n",
              "ar.L14         0.0517      0.068      0.763      0.445      -0.081       0.185\n",
              "ar.L15        -0.0181      0.086     -0.211      0.833      -0.186       0.150\n",
              "ar.L16        -0.0515      0.062     -0.836      0.403      -0.172       0.069\n",
              "ar.L17         0.0085      0.065      0.131      0.896      -0.118       0.135\n",
              "ar.L18         0.0161      0.060      0.267      0.789      -0.102       0.134\n",
              "ar.L19         0.0497      0.048      1.030      0.303      -0.045       0.144\n",
              "ar.L20        -0.0320      0.037     -0.862      0.389      -0.105       0.041\n",
              "ma.L1          0.2387      0.935      0.255      0.799      -1.594       2.072\n",
              "sigma2         0.0047      0.000     37.897      0.000       0.004       0.005\n",
              "===================================================================================\n",
              "Ljung-Box (L1) (Q):                   0.00   Jarque-Bera (JB):              6324.51\n",
              "Prob(Q):                              0.95   Prob(JB):                         0.00\n",
              "Heteroskedasticity (H):               1.55   Skew:                            -0.09\n",
              "Prob(H) (two-sided):                  0.00   Kurtosis:                        15.32\n",
              "===================================================================================\n",
              "\n",
              "Warnings:\n",
              "[1] Covariance matrix calculated using the outer product of gradients (complex-step).\n",
              "\"\"\""
            ],
            "text/html": [
              "<table class=\"simpletable\">\n",
              "<caption>SARIMAX Results</caption>\n",
              "<tr>\n",
              "  <th>Dep. Variable:</th>      <td>Wind Speed</td>    <th>  No. Observations:  </th>   <td>1000</td>   \n",
              "</tr>\n",
              "<tr>\n",
              "  <th>Model:</th>            <td>ARIMA(20, 0, 1)</td> <th>  Log Likelihood     </th> <td>1258.000</td> \n",
              "</tr>\n",
              "<tr>\n",
              "  <th>Date:</th>            <td>Thu, 22 Dec 2022</td> <th>  AIC                </th> <td>-2470.001</td>\n",
              "</tr>\n",
              "<tr>\n",
              "  <th>Time:</th>                <td>20:13:41</td>     <th>  BIC                </th> <td>-2357.122</td>\n",
              "</tr>\n",
              "<tr>\n",
              "  <th>Sample:</th>                  <td>0</td>        <th>  HQIC               </th> <td>-2427.099</td>\n",
              "</tr>\n",
              "<tr>\n",
              "  <th></th>                      <td> - 1000</td>     <th>                     </th>     <td> </td>    \n",
              "</tr>\n",
              "<tr>\n",
              "  <th>Covariance Type:</th>        <td>opg</td>       <th>                     </th>     <td> </td>    \n",
              "</tr>\n",
              "</table>\n",
              "<table class=\"simpletable\">\n",
              "<tr>\n",
              "     <td></td>       <th>coef</th>     <th>std err</th>      <th>z</th>      <th>P>|z|</th>  <th>[0.025</th>    <th>0.975]</th>  \n",
              "</tr>\n",
              "<tr>\n",
              "  <th>const</th>  <td>    3.6286</td> <td>    0.854</td> <td>    4.248</td> <td> 0.000</td> <td>    1.955</td> <td>    5.303</td>\n",
              "</tr>\n",
              "<tr>\n",
              "  <th>ar.L1</th>  <td>    1.0280</td> <td>    0.932</td> <td>    1.102</td> <td> 0.270</td> <td>   -0.800</td> <td>    2.856</td>\n",
              "</tr>\n",
              "<tr>\n",
              "  <th>ar.L2</th>  <td>    0.3767</td> <td>    1.182</td> <td>    0.319</td> <td> 0.750</td> <td>   -1.939</td> <td>    2.693</td>\n",
              "</tr>\n",
              "<tr>\n",
              "  <th>ar.L3</th>  <td>   -0.1698</td> <td>    0.083</td> <td>   -2.052</td> <td> 0.040</td> <td>   -0.332</td> <td>   -0.008</td>\n",
              "</tr>\n",
              "<tr>\n",
              "  <th>ar.L4</th>  <td>   -0.0046</td> <td>    0.180</td> <td>   -0.026</td> <td> 0.980</td> <td>   -0.358</td> <td>    0.349</td>\n",
              "</tr>\n",
              "<tr>\n",
              "  <th>ar.L5</th>  <td>   -0.1482</td> <td>    0.061</td> <td>   -2.430</td> <td> 0.015</td> <td>   -0.268</td> <td>   -0.029</td>\n",
              "</tr>\n",
              "<tr>\n",
              "  <th>ar.L6</th>  <td>   -0.1216</td> <td>    0.156</td> <td>   -0.778</td> <td> 0.437</td> <td>   -0.428</td> <td>    0.185</td>\n",
              "</tr>\n",
              "<tr>\n",
              "  <th>ar.L7</th>  <td>    0.0010</td> <td>    0.097</td> <td>    0.011</td> <td> 0.992</td> <td>   -0.189</td> <td>    0.191</td>\n",
              "</tr>\n",
              "<tr>\n",
              "  <th>ar.L8</th>  <td>   -0.1027</td> <td>    0.055</td> <td>   -1.879</td> <td> 0.060</td> <td>   -0.210</td> <td>    0.004</td>\n",
              "</tr>\n",
              "<tr>\n",
              "  <th>ar.L9</th>  <td>    0.0534</td> <td>    0.116</td> <td>    0.462</td> <td> 0.644</td> <td>   -0.173</td> <td>    0.280</td>\n",
              "</tr>\n",
              "<tr>\n",
              "  <th>ar.L10</th> <td>    0.1189</td> <td>    0.090</td> <td>    1.317</td> <td> 0.188</td> <td>   -0.058</td> <td>    0.296</td>\n",
              "</tr>\n",
              "<tr>\n",
              "  <th>ar.L11</th> <td>    0.0187</td> <td>    0.107</td> <td>    0.175</td> <td> 0.861</td> <td>   -0.191</td> <td>    0.229</td>\n",
              "</tr>\n",
              "<tr>\n",
              "  <th>ar.L12</th> <td>   -0.0259</td> <td>    0.056</td> <td>   -0.458</td> <td> 0.647</td> <td>   -0.136</td> <td>    0.085</td>\n",
              "</tr>\n",
              "<tr>\n",
              "  <th>ar.L13</th> <td>   -0.0515</td> <td>    0.053</td> <td>   -0.972</td> <td> 0.331</td> <td>   -0.155</td> <td>    0.052</td>\n",
              "</tr>\n",
              "<tr>\n",
              "  <th>ar.L14</th> <td>    0.0517</td> <td>    0.068</td> <td>    0.763</td> <td> 0.445</td> <td>   -0.081</td> <td>    0.185</td>\n",
              "</tr>\n",
              "<tr>\n",
              "  <th>ar.L15</th> <td>   -0.0181</td> <td>    0.086</td> <td>   -0.211</td> <td> 0.833</td> <td>   -0.186</td> <td>    0.150</td>\n",
              "</tr>\n",
              "<tr>\n",
              "  <th>ar.L16</th> <td>   -0.0515</td> <td>    0.062</td> <td>   -0.836</td> <td> 0.403</td> <td>   -0.172</td> <td>    0.069</td>\n",
              "</tr>\n",
              "<tr>\n",
              "  <th>ar.L17</th> <td>    0.0085</td> <td>    0.065</td> <td>    0.131</td> <td> 0.896</td> <td>   -0.118</td> <td>    0.135</td>\n",
              "</tr>\n",
              "<tr>\n",
              "  <th>ar.L18</th> <td>    0.0161</td> <td>    0.060</td> <td>    0.267</td> <td> 0.789</td> <td>   -0.102</td> <td>    0.134</td>\n",
              "</tr>\n",
              "<tr>\n",
              "  <th>ar.L19</th> <td>    0.0497</td> <td>    0.048</td> <td>    1.030</td> <td> 0.303</td> <td>   -0.045</td> <td>    0.144</td>\n",
              "</tr>\n",
              "<tr>\n",
              "  <th>ar.L20</th> <td>   -0.0320</td> <td>    0.037</td> <td>   -0.862</td> <td> 0.389</td> <td>   -0.105</td> <td>    0.041</td>\n",
              "</tr>\n",
              "<tr>\n",
              "  <th>ma.L1</th>  <td>    0.2387</td> <td>    0.935</td> <td>    0.255</td> <td> 0.799</td> <td>   -1.594</td> <td>    2.072</td>\n",
              "</tr>\n",
              "<tr>\n",
              "  <th>sigma2</th> <td>    0.0047</td> <td>    0.000</td> <td>   37.897</td> <td> 0.000</td> <td>    0.004</td> <td>    0.005</td>\n",
              "</tr>\n",
              "</table>\n",
              "<table class=\"simpletable\">\n",
              "<tr>\n",
              "  <th>Ljung-Box (L1) (Q):</th>     <td>0.00</td> <th>  Jarque-Bera (JB):  </th> <td>6324.51</td>\n",
              "</tr>\n",
              "<tr>\n",
              "  <th>Prob(Q):</th>                <td>0.95</td> <th>  Prob(JB):          </th>  <td>0.00</td>  \n",
              "</tr>\n",
              "<tr>\n",
              "  <th>Heteroskedasticity (H):</th> <td>1.55</td> <th>  Skew:              </th>  <td>-0.09</td> \n",
              "</tr>\n",
              "<tr>\n",
              "  <th>Prob(H) (two-sided):</th>    <td>0.00</td> <th>  Kurtosis:          </th>  <td>15.32</td> \n",
              "</tr>\n",
              "</table><br/><br/>Warnings:<br/>[1] Covariance matrix calculated using the outer product of gradients (complex-step)."
            ]
          },
          "metadata": {},
          "execution_count": 12
        }
      ]
    },
    {
      "cell_type": "code",
      "source": [
        "plt.plot(model.resid)"
      ],
      "metadata": {
        "colab": {
          "base_uri": "https://localhost:8080/",
          "height": 282
        },
        "id": "uved-iHOK-NB",
        "outputId": "cf157698-8ac3-4bcb-9b12-80f9dda850e6"
      },
      "execution_count": 13,
      "outputs": [
        {
          "output_type": "execute_result",
          "data": {
            "text/plain": [
              "[<matplotlib.lines.Line2D at 0x7f657879d880>]"
            ]
          },
          "metadata": {},
          "execution_count": 13
        },
        {
          "output_type": "display_data",
          "data": {
            "text/plain": [
              "<Figure size 432x288 with 1 Axes>"
            ],
            "image/png": "[encoded data removed]"
          },
          "metadata": {
            "needs_background": "light"
          }
        }
      ]
    },
    {
      "cell_type": "code",
      "source": [
        "from statsmodels.stats.diagnostic import acorr_ljungbox\n",
        "acorr_ljungbox(model.resid[1:], model_df = 21, return_df = True, lags = 50)"
      ],
      "metadata": {
        "colab": {
          "base_uri": "https://localhost:8080/",
          "height": 1000
        },
        "id": "WR-BQ7DiL4p5",
        "outputId": "4c5f3a89-8075-49b1-f1ec-0a1a9bfce082"
      },
      "execution_count": 14,
      "outputs": [
        {
          "output_type": "execute_result",
          "data": {
            "text/plain": [
              "      lb_stat  lb_pvalue\n",
              "1    0.003972        NaN\n",
              "2    0.004180        NaN\n",
              "3    0.005780        NaN\n",
              "4    0.006101        NaN\n",
              "5    0.016911        NaN\n",
              "6    0.023467        NaN\n",
              "7    0.038490        NaN\n",
              "8    0.038598        NaN\n",
              "9    0.039675        NaN\n",
              "10   0.041363        NaN\n",
              "11   0.055638        NaN\n",
              "12   0.056010        NaN\n",
              "13   0.096332        NaN\n",
              "14   0.106515        NaN\n",
              "15   0.107864        NaN\n",
              "16   0.117515        NaN\n",
              "17   0.130427        NaN\n",
              "18   0.149194        NaN\n",
              "19   0.195409        NaN\n",
              "20   0.506658        NaN\n",
              "21   2.578241        NaN\n",
              "22   2.872454   0.090107\n",
              "23   2.945493   0.229295\n",
              "24   3.799453   0.283950\n",
              "25   6.475509   0.166340\n",
              "26   6.491529   0.261283\n",
              "27   8.159056   0.226681\n",
              "28   8.165311   0.318243\n",
              "29   8.165594   0.417464\n",
              "30  10.710687   0.296062\n",
              "31  11.161655   0.345063\n",
              "32  11.394013   0.410869\n",
              "33  11.512911   0.485547\n",
              "34  11.530191   0.566492\n",
              "35  12.215885   0.588970\n",
              "36  13.050756   0.598377\n",
              "37  13.051391   0.668997\n",
              "38  13.660881   0.690945\n",
              "39  13.928178   0.733761\n",
              "40  18.152784   0.512255\n",
              "41  18.936798   0.525938\n",
              "42  19.601055   0.546641\n",
              "43  19.602417   0.607894\n",
              "44  20.651102   0.602385\n",
              "45  22.631289   0.541642\n",
              "46  22.744369   0.592488\n",
              "47  23.085088   0.628129\n",
              "48  23.525165   0.656504\n",
              "49  23.665344   0.699071\n",
              "50  24.097208   0.724124"
            ],
            "text/html": [
              "\n",
              "  <div id=\"df-519c0ba1-700b-4bd8-b4db-e5afe3731fc7\">\n",
              "    <div class=\"colab-df-container\">\n",
              "      <div>\n",
              "<style scoped>\n",
              "    .dataframe tbody tr th:only-of-type {\n",
              "        vertical-align: middle;\n",
              "    }\n",
              "\n",
              "    .dataframe tbody tr th {\n",
              "        vertical-align: top;\n",
              "    }\n",
              "\n",
              "    .dataframe thead th {\n",
              "        text-align: right;\n",
              "    }\n",
              "</style>\n",
              "<table border=\"1\" class=\"dataframe\">\n",
              "  <thead>\n",
              "    <tr style=\"text-align: right;\">\n",
              "      <th></th>\n",
              "      <th>lb_stat</th>\n",
              "      <th>lb_pvalue</th>\n",
              "    </tr>\n",
              "  </thead>\n",
              "  <tbody>\n",
              "    <tr>\n",
              "      <th>1</th>\n",
              "      <td>0.003972</td>\n",
              "      <td>NaN</td>\n",
              "    </tr>\n",
              "    <tr>\n",
              "      <th>2</th>\n",
              "      <td>0.004180</td>\n",
              "      <td>NaN</td>\n",
              "    </tr>\n",
              "    <tr>\n",
              "      <th>3</th>\n",
              "      <td>0.005780</td>\n",
              "      <td>NaN</td>\n",
              "    </tr>\n",
              "    <tr>\n",
              "      <th>4</th>\n",
              "      <td>0.006101</td>\n",
              "      <td>NaN</td>\n",
              "    </tr>\n",
              "    <tr>\n",
              "      <th>5</th>\n",
              "      <td>0.016911</td>\n",
              "      <td>NaN</td>\n",
              "    </tr>\n",
              "    <tr>\n",
              "      <th>6</th>\n",
              "      <td>0.023467</td>\n",
              "      <td>NaN</td>\n",
              "    </tr>\n",
              "    <tr>\n",
              "      <th>7</th>\n",
              "      <td>0.038490</td>\n",
              "      <td>NaN</td>\n",
              "    </tr>\n",
              "    <tr>\n",
              "      <th>8</th>\n",
              "      <td>0.038598</td>\n",
              "      <td>NaN</td>\n",
              "    </tr>\n",
              "    <tr>\n",
              "      <th>9</th>\n",
              "      <td>0.039675</td>\n",
              "      <td>NaN</td>\n",
              "    </tr>\n",
              "    <tr>\n",
              "      <th>10</th>\n",
              "      <td>0.041363</td>\n",
              "      <td>NaN</td>\n",
              "    </tr>\n",
              "    <tr>\n",
              "      <th>11</th>\n",
              "      <td>0.055638</td>\n",
              "      <td>NaN</td>\n",
              "    </tr>\n",
              "    <tr>\n",
              "      <th>12</th>\n",
              "      <td>0.056010</td>\n",
              "      <td>NaN</td>\n",
              "    </tr>\n",
              "    <tr>\n",
              "      <th>13</th>\n",
              "      <td>0.096332</td>\n",
              "      <td>NaN</td>\n",
              "    </tr>\n",
              "    <tr>\n",
              "      <th>14</th>\n",
              "      <td>0.106515</td>\n",
              "      <td>NaN</td>\n",
              "    </tr>\n",
              "    <tr>\n",
              "      <th>15</th>\n",
              "      <td>0.107864</td>\n",
              "      <td>NaN</td>\n",
              "    </tr>\n",
              "    <tr>\n",
              "      <th>16</th>\n",
              "      <td>0.117515</td>\n",
              "      <td>NaN</td>\n",
              "    </tr>\n",
              "    <tr>\n",
              "      <th>17</th>\n",
              "      <td>0.130427</td>\n",
              "      <td>NaN</td>\n",
              "    </tr>\n",
              "    <tr>\n",
              "      <th>18</th>\n",
              "      <td>0.149194</td>\n",
              "      <td>NaN</td>\n",
              "    </tr>\n",
              "    <tr>\n",
              "      <th>19</th>\n",
              "      <td>0.195409</td>\n",
              "      <td>NaN</td>\n",
              "    </tr>\n",
              "    <tr>\n",
              "      <th>20</th>\n",
              "      <td>0.506658</td>\n",
              "      <td>NaN</td>\n",
              "    </tr>\n",
              "    <tr>\n",
              "      <th>21</th>\n",
              "      <td>2.578241</td>\n",
              "      <td>NaN</td>\n",
              "    </tr>\n",
              "    <tr>\n",
              "      <th>22</th>\n",
              "      <td>2.872454</td>\n",
              "      <td>0.090107</td>\n",
              "    </tr>\n",
              "    <tr>\n",
              "      <th>23</th>\n",
              "      <td>2.945493</td>\n",
              "      <td>0.229295</td>\n",
              "    </tr>\n",
              "    <tr>\n",
              "      <th>24</th>\n",
              "      <td>3.799453</td>\n",
              "      <td>0.283950</td>\n",
              "    </tr>\n",
              "    <tr>\n",
              "      <th>25</th>\n",
              "      <td>6.475509</td>\n",
              "      <td>0.166340</td>\n",
              "    </tr>\n",
              "    <tr>\n",
              "      <th>26</th>\n",
              "      <td>6.491529</td>\n",
              "      <td>0.261283</td>\n",
              "    </tr>\n",
              "    <tr>\n",
              "      <th>27</th>\n",
              "      <td>8.159056</td>\n",
              "      <td>0.226681</td>\n",
              "    </tr>\n",
              "    <tr>\n",
              "      <th>28</th>\n",
              "      <td>8.165311</td>\n",
              "      <td>0.318243</td>\n",
              "    </tr>\n",
              "    <tr>\n",
              "      <th>29</th>\n",
              "      <td>8.165594</td>\n",
              "      <td>0.417464</td>\n",
              "    </tr>\n",
              "    <tr>\n",
              "      <th>30</th>\n",
              "      <td>10.710687</td>\n",
              "      <td>0.296062</td>\n",
              "    </tr>\n",
              "    <tr>\n",
              "      <th>31</th>\n",
              "      <td>11.161655</td>\n",
              "      <td>0.345063</td>\n",
              "    </tr>\n",
              "    <tr>\n",
              "      <th>32</th>\n",
              "      <td>11.394013</td>\n",
              "      <td>0.410869</td>\n",
              "    </tr>\n",
              "    <tr>\n",
              "      <th>33</th>\n",
              "      <td>11.512911</td>\n",
              "      <td>0.485547</td>\n",
              "    </tr>\n",
              "    <tr>\n",
              "      <th>34</th>\n",
              "      <td>11.530191</td>\n",
              "      <td>0.566492</td>\n",
              "    </tr>\n",
              "    <tr>\n",
              "      <th>35</th>\n",
              "      <td>12.215885</td>\n",
              "      <td>0.588970</td>\n",
              "    </tr>\n",
              "    <tr>\n",
              "      <th>36</th>\n",
              "      <td>13.050756</td>\n",
              "      <td>0.598377</td>\n",
              "    </tr>\n",
              "    <tr>\n",
              "      <th>37</th>\n",
              "      <td>13.051391</td>\n",
              "      <td>0.668997</td>\n",
              "    </tr>\n",
              "    <tr>\n",
              "      <th>38</th>\n",
              "      <td>13.660881</td>\n",
              "      <td>0.690945</td>\n",
              "    </tr>\n",
              "    <tr>\n",
              "      <th>39</th>\n",
              "      <td>13.928178</td>\n",
              "      <td>0.733761</td>\n",
              "    </tr>\n",
              "    <tr>\n",
              "      <th>40</th>\n",
              "      <td>18.152784</td>\n",
              "      <td>0.512255</td>\n",
              "    </tr>\n",
              "    <tr>\n",
              "      <th>41</th>\n",
              "      <td>18.936798</td>\n",
              "      <td>0.525938</td>\n",
              "    </tr>\n",
              "    <tr>\n",
              "      <th>42</th>\n",
              "      <td>19.601055</td>\n",
              "      <td>0.546641</td>\n",
              "    </tr>\n",
              "    <tr>\n",
              "      <th>43</th>\n",
              "      <td>19.602417</td>\n",
              "      <td>0.607894</td>\n",
              "    </tr>\n",
              "    <tr>\n",
              "      <th>44</th>\n",
              "      <td>20.651102</td>\n",
              "      <td>0.602385</td>\n",
              "    </tr>\n",
              "    <tr>\n",
              "      <th>45</th>\n",
              "      <td>22.631289</td>\n",
              "      <td>0.541642</td>\n",
              "    </tr>\n",
              "    <tr>\n",
              "      <th>46</th>\n",
              "      <td>22.744369</td>\n",
              "      <td>0.592488</td>\n",
              "    </tr>\n",
              "    <tr>\n",
              "      <th>47</th>\n",
              "      <td>23.085088</td>\n",
              "      <td>0.628129</td>\n",
              "    </tr>\n",
              "    <tr>\n",
              "      <th>48</th>\n",
              "      <td>23.525165</td>\n",
              "      <td>0.656504</td>\n",
              "    </tr>\n",
              "    <tr>\n",
              "      <th>49</th>\n",
              "      <td>23.665344</td>\n",
              "      <td>0.699071</td>\n",
              "    </tr>\n",
              "    <tr>\n",
              "      <th>50</th>\n",
              "      <td>24.097208</td>\n",
              "      <td>0.724124</td>\n",
              "    </tr>\n",
              "  </tbody>\n",
              "</table>\n",
              "</div>\n",
              "      <button class=\"colab-df-convert\" onclick=\"convertToInteractive('df-519c0ba1-700b-4bd8-b4db-e5afe3731fc7')\"\n",
              "              title=\"Convert this dataframe to an interactive table.\"\n",
              "              style=\"display:none;\">\n",
              "        \n",
              "  <svg xmlns=\"http://www.w3.org/2000/svg\" height=\"24px\"viewBox=\"0 0 24 24\"\n",
              "       width=\"24px\">\n",
              "    <path d=\"M0 0h24v24H0V0z\" fill=\"none\"/>\n",
              "    <path d=\"M18.56 5.44l.94 2.06.94-2.06 2.06-.94-2.06-.94-.94-2.06-.94 2.06-2.06.94zm-11 1L8.5 8.5l.94-2.06 2.06-.94-2.06-.94L8.5 2.5l-.94 2.06-2.06.94zm10 10l.94 2.06.94-2.06 2.06-.94-2.06-.94-.94-2.06-.94 2.06-2.06.94z\"/><path d=\"M17.41 7.96l-1.37-1.37c-.4-.4-.92-.59-1.43-.59-.52 0-1.04.2-1.43.59L10.3 9.45l-7.72 7.72c-.78.78-.78 2.05 0 2.83L4 21.41c.39.39.9.59 1.41.59.51 0 1.02-.2 1.41-.59l7.78-7.78 2.81-2.81c.8-.78.8-2.07 0-2.86zM5.41 20L4 18.59l7.72-7.72 1.47 1.35L5.41 20z\"/>\n",
              "  </svg>\n",
              "      </button>\n",
              "      \n",
              "  <style>\n",
              "    .colab-df-container {\n",
              "      display:flex;\n",
              "      flex-wrap:wrap;\n",
              "      gap: 12px;\n",
              "    }\n",
              "\n",
              "    .colab-df-convert {\n",
              "      background-color: #E8F0FE;\n",
              "      border: none;\n",
              "      border-radius: 50%;\n",
              "      cursor: pointer;\n",
              "      display: none;\n",
              "      fill: #1967D2;\n",
              "      height: 32px;\n",
              "      padding: 0 0 0 0;\n",
              "      width: 32px;\n",
              "    }\n",
              "\n",
              "    .colab-df-convert:hover {\n",
              "      background-color: #E2EBFA;\n",
              "      box-shadow: 0px 1px 2px rgba(60, 64, 67, 0.3), 0px 1px 3px 1px rgba(60, 64, 67, 0.15);\n",
              "      fill: #174EA6;\n",
              "    }\n",
              "\n",
              "    [theme=dark] .colab-df-convert {\n",
              "      background-color: #3B4455;\n",
              "      fill: #D2E3FC;\n",
              "    }\n",
              "\n",
              "    [theme=dark] .colab-df-convert:hover {\n",
              "      background-color: #434B5C;\n",
              "      box-shadow: 0px 1px 3px 1px rgba(0, 0, 0, 0.15);\n",
              "      filter: drop-shadow(0px 1px 2px rgba(0, 0, 0, 0.3));\n",
              "      fill: #FFFFFF;\n",
              "    }\n",
              "  </style>\n",
              "\n",
              "      <script>\n",
              "        const buttonEl =\n",
              "          document.querySelector('#df-519c0ba1-700b-4bd8-b4db-e5afe3731fc7 button.colab-df-convert');\n",
              "        buttonEl.style.display =\n",
              "          google.colab.kernel.accessAllowed ? 'block' : 'none';\n",
              "\n",
              "        async function convertToInteractive(key) {\n",
              "          const element = document.querySelector('#df-519c0ba1-700b-4bd8-b4db-e5afe3731fc7');\n",
              "          const dataTable =\n",
              "            await google.colab.kernel.invokeFunction('convertToInteractive',\n",
              "                                                     [key], {});\n",
              "          if (!dataTable) return;\n",
              "\n",
              "          const docLinkHtml = 'Like what you see? Visit the ' +\n",
              "            '<a target=\"_blank\" href=https://colab.research.google.com/notebooks/data_table.ipynb>data table notebook</a>'\n",
              "            + ' to learn more about interactive tables.';\n",
              "          element.innerHTML = '';\n",
              "          dataTable['output_type'] = 'display_data';\n",
              "          await google.colab.output.renderOutput(dataTable, element);\n",
              "          const docLink = document.createElement('div');\n",
              "          docLink.innerHTML = docLinkHtml;\n",
              "          element.appendChild(docLink);\n",
              "        }\n",
              "      </script>\n",
              "    </div>\n",
              "  </div>\n",
              "  "
            ]
          },
          "metadata": {},
          "execution_count": 14
        }
      ]
    },
    {
      "cell_type": "code",
      "source": [
        "def splitter(data, alpha = 0.8):  ### We split the data into 0.8 and 0.2  train test splitting we do not do validation.\n",
        "  N = len(data)\n",
        "  N_ = int(alpha*N)\n",
        "  data_train = data[:N_]\n",
        "  data_test = data[N_:]\n",
        "  return data_train, data_test"
      ],
      "metadata": {
        "id": "YTrLRHK-RWoS"
      },
      "execution_count": 15,
      "outputs": []
    },
    {
      "cell_type": "code",
      "source": [
        "data_train, data_test = splitter(data)"
      ],
      "metadata": {
        "id": "EBcwIlFERvsN"
      },
      "execution_count": 16,
      "outputs": []
    },
    {
      "cell_type": "code",
      "source": [
        "plt.figure(figsize= (10,5))\n",
        "plt.plot(data_train, label =\"train\")\n",
        "plt.plot(data_test, label = \"test\")\n",
        "plt.legend()\n",
        "plt.show()"
      ],
      "metadata": {
        "colab": {
          "base_uri": "https://localhost:8080/",
          "height": 320
        },
        "id": "5JPNxS65R6Ru",
        "outputId": "d4ad5cfc-b130-48f6-cb7a-5364e74cba56"
      },
      "execution_count": 17,
      "outputs": [
        {
          "output_type": "display_data",
          "data": {
            "text/plain": [
              "<Figure size 720x360 with 1 Axes>"
            ],
            "image/png": "[encoded data removed]"
          },
          "metadata": {
            "needs_background": "light"
          }
        }
      ]
    },
    {
      "cell_type": "code",
      "source": [
        "def sliding_window(data:list, window_size:int = 100):\n",
        "  data = np.array(data)\n",
        "  X = []\n",
        "  y = []\n",
        "  i = 0\n",
        "  while True:\n",
        "    try:\n",
        "      y.append(data[i+window_size])\n",
        "      X.append(data[i:i+window_size])\n",
        "      i += 1\n",
        "    except Exception:\n",
        "      print(f\"We have reached the end of the list! There are total number of {i} rows in your data\")\n",
        "      break\n",
        "  return np.array(X), np.array(y)"
      ],
      "metadata": {
        "id": "O45dERvbSSxR"
      },
      "execution_count": 18,
      "outputs": []
    },
    {
      "cell_type": "code",
      "source": [
        "(X_train, y_train), (X_test, y_test) = sliding_window(data_train), sliding_window(data_test)"
      ],
      "metadata": {
        "colab": {
          "base_uri": "https://localhost:8080/"
        },
        "id": "FlDt2y02UZ9o",
        "outputId": "b349c174-6460-4d24-8777-80fa871580c8"
      },
      "execution_count": 19,
      "outputs": [
        {
          "output_type": "stream",
          "name": "stdout",
          "text": [
            "We have reached the end of the list! There are total number of 83996 rows in your data\n",
            "We have reached the end of the list! There are total number of 20924 rows in your data\n"
          ]
        }
      ]
    },
    {
      "cell_type": "markdown",
      "source": [
        "###Start with KNN"
      ],
      "metadata": {
        "id": "uTHw0BElaLeL"
      }
    },
    {
      "cell_type": "code",
      "source": [
        "from sklearn.neighbors import KNeighborsRegressor\n",
        "knn = KNeighborsRegressor(n_jobs = -1, n_neighbors = 3)\n",
        "knn.fit(X_train, y_train)\n",
        "knn.score(X_test, y_test)   #### this gives R2 score, no need to import sklearn's r2score.\n",
        "y_pred = knn.predict(X_test)"
      ],
      "metadata": {
        "id": "sevyMtF-VnAb"
      },
      "execution_count": 20,
      "outputs": []
    },
    {
      "cell_type": "code",
      "source": [
        "plt.plot(y_pred, label = \"predicted\")\n",
        "plt.plot(y_test, label = \"test\")\n",
        "plt.legend()\n",
        "plt.show()"
      ],
      "metadata": {
        "colab": {
          "base_uri": "https://localhost:8080/",
          "height": 265
        },
        "id": "RWmiC8XqZykd",
        "outputId": "107347cc-7e95-405c-b5e0-8b953aeb3e84"
      },
      "execution_count": 21,
      "outputs": [
        {
          "output_type": "display_data",
          "data": {
            "text/plain": [
              "<Figure size 432x288 with 1 Axes>"
            ],
            "image/png": "[encoded data removed]"
          },
          "metadata": {
            "needs_background": "light"
          }
        }
      ]
    },
    {
      "cell_type": "code",
      "source": [
        "plt.plot(y_test - y_pred, label = \"residuals\")\n",
        "plt.legend()\n",
        "plt.show()"
      ],
      "metadata": {
        "colab": {
          "base_uri": "https://localhost:8080/",
          "height": 265
        },
        "id": "thsFyVwHZVW9",
        "outputId": "2bb14e12-1fb0-4cfe-ff97-57ecdd4ef319"
      },
      "execution_count": 22,
      "outputs": [
        {
          "output_type": "display_data",
          "data": {
            "text/plain": [
              "<Figure size 432x288 with 1 Axes>"
            ],
            "image/png": "[encoded data removed]"
          },
          "metadata": {
            "needs_background": "light"
          }
        }
      ]
    },
    {
      "cell_type": "code",
      "source": [
        "np.mean(y_test - y_pred), np.std(y_test - y_pred, ddof = 1)"
      ],
      "metadata": {
        "colab": {
          "base_uri": "https://localhost:8080/"
        },
        "id": "1cNErFtncOTx",
        "outputId": "c60cf37a-cd54-42f4-8f96-ba05c35586f4"
      },
      "execution_count": 23,
      "outputs": [
        {
          "output_type": "execute_result",
          "data": {
            "text/plain": [
              "(0.022849359587077043, 0.49327451426977426)"
            ]
          },
          "metadata": {},
          "execution_count": 23
        }
      ]
    },
    {
      "cell_type": "markdown",
      "source": [
        "###Decision Tree"
      ],
      "metadata": {
        "id": "M6m65sBtaOGS"
      }
    },
    {
      "cell_type": "code",
      "source": [
        "from sklearn.tree import DecisionTreeRegressor\n",
        "dt = DecisionTreeRegressor()\n",
        "dt.fit(X_train, y_train)\n",
        "score = dt.score(X_test, y_test)\n",
        "print(score)   #### this give R2 score, no need to import slearn r2score.\n",
        "y_pred = dt.predict(X_test)"
      ],
      "metadata": {
        "colab": {
          "base_uri": "https://localhost:8080/"
        },
        "id": "rwxdE60vaKfY",
        "outputId": "e22ce341-c361-40f8-c89a-701bba2c4b94"
      },
      "execution_count": 24,
      "outputs": [
        {
          "output_type": "stream",
          "name": "stdout",
          "text": [
            "0.9952174837474221\n"
          ]
        }
      ]
    },
    {
      "cell_type": "code",
      "source": [
        "plt.plot(y_pred, label = \"predicted\")\n",
        "plt.plot(y_test, label = \"test\")\n",
        "plt.legend()\n",
        "plt.show()"
      ],
      "metadata": {
        "colab": {
          "base_uri": "https://localhost:8080/",
          "height": 265
        },
        "id": "cW58rDuxaRkv",
        "outputId": "5c75e5ee-2152-49ec-c0dc-bb977d1e03dd"
      },
      "execution_count": 25,
      "outputs": [
        {
          "output_type": "display_data",
          "data": {
            "text/plain": [
              "<Figure size 432x288 with 1 Axes>"
            ],
            "image/png": "[encoded data removed]"
          },
          "metadata": {
            "needs_background": "light"
          }
        }
      ]
    },
    {
      "cell_type": "code",
      "source": [
        "plt.plot(y_test - y_pred, label = \"residuals\")\n",
        "plt.legend()\n",
        "plt.show()"
      ],
      "metadata": {
        "colab": {
          "base_uri": "https://localhost:8080/",
          "height": 265
        },
        "id": "7TEYNLs2aTTE",
        "outputId": "6fc89440-5be3-4b79-d6e7-b897f2433e59"
      },
      "execution_count": 26,
      "outputs": [
        {
          "output_type": "display_data",
          "data": {
            "text/plain": [
              "<Figure size 432x288 with 1 Axes>"
            ],
            "image/png": "[encoded data removed]"
          },
          "metadata": {
            "needs_background": "light"
          }
        }
      ]
    },
    {
      "cell_type": "code",
      "source": [
        "np.mean(y_test - y_pred), np.std(y_test - y_pred, ddof = 1)"
      ],
      "metadata": {
        "colab": {
          "base_uri": "https://localhost:8080/"
        },
        "id": "crEI13iKcGER",
        "outputId": "62814506-9f31-47e2-8c19-23f9a24090a5"
      },
      "execution_count": 27,
      "outputs": [
        {
          "output_type": "execute_result",
          "data": {
            "text/plain": [
              "(-0.001252150640413003, 0.09931351465749892)"
            ]
          },
          "metadata": {},
          "execution_count": 27
        }
      ]
    },
    {
      "cell_type": "markdown",
      "source": [
        "## Time for neural networks"
      ],
      "metadata": {
        "id": "yR0djDvia0pS"
      }
    },
    {
      "cell_type": "code",
      "source": [
        "from sklearn.neural_network import MLPRegressor\n",
        "ml = MLPRegressor(hidden_layer_sizes = (50,25))\n",
        "ml.fit(X_train, y_train)\n",
        "score = ml.score(X_test, y_test)\n",
        "print(score)   #### this gives R2 score, no need to import sklearn r2score.\n",
        "y_pred = ml.predict(X_test)"
      ],
      "metadata": {
        "colab": {
          "base_uri": "https://localhost:8080/"
        },
        "id": "2TbExj2Ua2wG",
        "outputId": "658bb8b8-6102-42f6-ab44-20b2138652f4"
      },
      "execution_count": 28,
      "outputs": [
        {
          "output_type": "stream",
          "name": "stdout",
          "text": [
            "0.9929787904698653\n"
          ]
        }
      ]
    },
    {
      "cell_type": "code",
      "source": [
        "plt.plot(y_pred, label = \"predicted\")\n",
        "plt.plot(y_test, label = \"predicted\")\n",
        "plt.legend()\n",
        "plt.show()"
      ],
      "metadata": {
        "colab": {
          "base_uri": "https://localhost:8080/",
          "height": 265
        },
        "id": "8qW3OxxsbUv1",
        "outputId": "959b3b6f-9310-4b15-e6ab-710543c11750"
      },
      "execution_count": 29,
      "outputs": [
        {
          "output_type": "display_data",
          "data": {
            "text/plain": [
              "<Figure size 432x288 with 1 Axes>"
            ],
            "image/png": "[encoded data removed]"
          },
          "metadata": {
            "needs_background": "light"
          }
        }
      ]
    },
    {
      "cell_type": "code",
      "source": [
        "plt.plot(y_test - y_pred, label = \"residuals\")\n",
        "plt.legend()\n",
        "plt.show()"
      ],
      "metadata": {
        "colab": {
          "base_uri": "https://localhost:8080/",
          "height": 269
        },
        "id": "b0RpCBFJbU6M",
        "outputId": "2491831b-94c2-4b05-902c-ae26c4234d71"
      },
      "execution_count": 30,
      "outputs": [
        {
          "output_type": "display_data",
          "data": {
            "text/plain": [
              "<Figure size 432x288 with 1 Axes>"
            ],
            "image/png": "[encoded data removed]"
          },
          "metadata": {
            "needs_background": "light"
          }
        }
      ]
    },
    {
      "cell_type": "code",
      "source": [
        "np.mean(y_test - y_pred), np.std(y_test - y_pred, ddof = 1)"
      ],
      "metadata": {
        "colab": {
          "base_uri": "https://localhost:8080/"
        },
        "id": "Lh9epdQ4cMhc",
        "outputId": "039c6cbf-f1e8-4c19-e49f-808771a5723a"
      },
      "execution_count": 31,
      "outputs": [
        {
          "output_type": "execute_result",
          "data": {
            "text/plain": [
              "(-0.09076504016654058, 0.07901731688718519)"
            ]
          },
          "metadata": {},
          "execution_count": 31
        }
      ]
    },
    {
      "cell_type": "code",
      "source": [
        "ml.coefs_"
      ],
      "metadata": {
        "colab": {
          "base_uri": "https://localhost:8080/"
        },
        "id": "xSfx69W4br55",
        "outputId": "416e5213-cb12-481d-cba6-e10fe0a8d355"
      },
      "execution_count": 32,
      "outputs": [
        {
          "output_type": "execute_result",
          "data": {
            "text/plain": [
              "[array([[ 0.16331384, -0.07912967,  0.05830524, ..., -0.04247735,\n",
              "         -0.04249071,  0.11706566],\n",
              "        [ 0.05405982, -0.08239153, -0.06385301, ...,  0.03483528,\n",
              "          0.04382966,  0.12637796],\n",
              "        [-0.02692472,  0.02125725,  0.0604648 , ..., -0.085776  ,\n",
              "         -0.07852954,  0.01254723],\n",
              "        ...,\n",
              "        [-0.10038836,  0.06047197, -0.08968174, ..., -0.16741937,\n",
              "         -0.01240119, -0.04292753],\n",
              "        [-0.20443276,  0.09269614, -0.01786469, ..., -0.02157493,\n",
              "         -0.0475449 ,  0.06011273],\n",
              "        [-0.29395722, -0.00105778, -0.00170548, ...,  0.08720909,\n",
              "         -0.01458473,  0.35283879]]),\n",
              " array([[-1.11737540e-01, -1.86202901e-01, -4.11623457e-02, ...,\n",
              "         -7.63993891e-02,  2.07075994e-01,  1.35571864e-01],\n",
              "        [-6.37230808e-02,  1.98699628e-01, -4.22393528e-04, ...,\n",
              "          2.09006457e-01,  8.83935349e-02,  2.43932016e-01],\n",
              "        [-1.96668420e-09, -1.04936522e-01,  8.79536990e-06, ...,\n",
              "         -2.86821945e-02, -1.21016975e-01, -2.18362164e-02],\n",
              "        ...,\n",
              "        [ 1.25576084e-01, -2.67889479e-01, -5.33856069e-03, ...,\n",
              "         -1.82379990e-01,  1.83258569e-01, -9.97217430e-02],\n",
              "        [ 1.11928478e-12,  5.01181037e-03,  2.86771381e-03, ...,\n",
              "          3.68007753e-03, -3.95279374e-03,  2.79631842e-05],\n",
              "        [-1.32202374e-01,  2.30450692e-01, -1.05234360e-01, ...,\n",
              "          1.37618297e-01, -1.98211482e-02, -6.16132601e-02]]),\n",
              " array([[-4.02446292e-02],\n",
              "        [-3.70393871e-01],\n",
              "        [ 3.02782115e-01],\n",
              "        [-2.26618001e-01],\n",
              "        [ 1.85773361e-01],\n",
              "        [ 1.85968129e-01],\n",
              "        [-1.58291199e-27],\n",
              "        [ 1.84467380e-01],\n",
              "        [-2.92217670e-01],\n",
              "        [ 1.52964179e-01],\n",
              "        [-1.00519043e-02],\n",
              "        [-2.19470523e-01],\n",
              "        [-2.71569142e-02],\n",
              "        [ 4.20752084e-01],\n",
              "        [ 3.34725514e-01],\n",
              "        [-3.82821818e-01],\n",
              "        [ 1.01702718e-01],\n",
              "        [-2.29477205e-02],\n",
              "        [-9.42286714e-02],\n",
              "        [-1.90687363e-01],\n",
              "        [ 1.45739482e-01],\n",
              "        [ 5.75457590e-02],\n",
              "        [ 2.52254565e-01],\n",
              "        [ 4.03605911e-01],\n",
              "        [ 1.91084785e-01]])]"
            ]
          },
          "metadata": {},
          "execution_count": 32
        }
      ]
    },
    {
      "cell_type": "markdown",
      "source": [
        "###See what np.roll does to an array np.roll(A, shift)"
      ],
      "metadata": {
        "id": "1rn8cuJYG52T"
      }
    },
    {
      "cell_type": "code",
      "source": [
        "np.roll([1,2,3,4,5],-1)"
      ],
      "metadata": {
        "colab": {
          "base_uri": "https://localhost:8080/"
        },
        "id": "Mjq1dd0eG5SX",
        "outputId": "fc375625-a96d-47d9-a054-b1b43ef22acf"
      },
      "execution_count": 33,
      "outputs": [
        {
          "output_type": "execute_result",
          "data": {
            "text/plain": [
              "array([2, 3, 4, 5, 1])"
            ]
          },
          "metadata": {},
          "execution_count": 33
        }
      ]
    },
    {
      "cell_type": "markdown",
      "source": [
        "#Let's do a long term forecast and see what happens?"
      ],
      "metadata": {
        "id": "4G7-KnVqdMO6"
      }
    },
    {
      "cell_type": "code",
      "source": [
        "def function(regressor, data:np.array, length = 10):\n",
        "  temp = np.copy(data)\n",
        "  for i in range(length):\n",
        "    L = regressor.predict(temp.reshape(1,-1))\n",
        "    temp = np.roll(temp, -1)\n",
        "    temp[-1] = L\n",
        "  return temp"
      ],
      "metadata": {
        "id": "ir7at6MWdQKh"
      },
      "execution_count": 34,
      "outputs": []
    },
    {
      "cell_type": "code",
      "source": [
        "function(ml, X_train[-1], 250)  #### length 25 forecast we did."
      ],
      "metadata": {
        "colab": {
          "base_uri": "https://localhost:8080/"
        },
        "id": "BoA4TNzRF9js",
        "outputId": "88704597-afef-4a63-d8a3-564c96721b72"
      },
      "execution_count": 35,
      "outputs": [
        {
          "output_type": "execute_result",
          "data": {
            "text/plain": [
              "array([ 121.0202797 ,  124.38428744,  127.85442719,  131.38739718,\n",
              "        134.98447823,  138.63822508,  142.31909127,  146.00965151,\n",
              "        149.71616617,  153.42790559,  157.20384766,  161.07545079,\n",
              "        165.0391035 ,  169.13790855,  173.40523279,  177.83865926,\n",
              "        182.44991759,  187.22260088,  192.135748  ,  197.19542691,\n",
              "        202.38555458,  207.68605636,  213.11380088,  218.6746893 ,\n",
              "        224.36533211,  230.22051555,  236.25507372,  242.48224546,\n",
              "        248.9225547 ,  255.58290444,  262.44340125,  269.51531154,\n",
              "        276.78264305,  284.22709248,  291.83742989,  299.59090631,\n",
              "        307.48140724,  315.52754827,  323.74013461,  332.14167255,\n",
              "        340.77578566,  349.67641931,  358.84856315,  368.32206918,\n",
              "        378.10395884,  388.18637433,  398.5679361 ,  409.2252677 ,\n",
              "        420.15348212,  431.35613137,  442.83251077,  454.58754984,\n",
              "        466.65198603,  479.04313378,  491.77047265,  504.86972522,\n",
              "        518.34633564,  532.19642359,  546.44204447,  561.07266673,\n",
              "        576.08115825,  591.45816433,  607.19109123,  623.26991631,\n",
              "        639.7112951 ,  656.52288529,  673.72521697,  691.35253273,\n",
              "        709.41488209,  727.94379706,  746.98808996,  766.55698244,\n",
              "        786.66170754,  807.31508668,  828.52473897,  850.30303529,\n",
              "        872.66708977,  895.6219367 ,  919.18175939,  943.38911963,\n",
              "        968.26120833,  993.82763487, 1020.11944291, 1047.1487891 ,\n",
              "       1074.9405231 , 1103.52516248, 1132.9003206 , 1163.07707472,\n",
              "       1194.07079882, 1225.88131416, 1258.51648917, 1292.00089637,\n",
              "       1326.33573234, 1361.54707864, 1397.66001966, 1434.69265145,\n",
              "       1472.68455513, 1511.66774246, 1551.64311508, 1592.63923393])"
            ]
          },
          "metadata": {},
          "execution_count": 35
        }
      ]
    },
    {
      "cell_type": "code",
      "source": [
        "index = data_test.index  ### we get the index set.  of the train set"
      ],
      "metadata": {
        "id": "gHgbmjsGHAmM"
      },
      "execution_count": 36,
      "outputs": []
    },
    {
      "cell_type": "code",
      "source": [
        "X_forecast = function(ml, X_train[-1], 20)  #### length 25 forecast we did."
      ],
      "metadata": {
        "id": "2pu47BS7Haff"
      },
      "execution_count": 46,
      "outputs": []
    },
    {
      "cell_type": "code",
      "source": [
        "data_forecast = pd.Series(X_forecast)\n",
        "data_forecast.index = range(index[0]+1, index[0]+len(data_forecast)+1)"
      ],
      "metadata": {
        "id": "riXxjZG1Hf2m"
      },
      "execution_count": 47,
      "outputs": []
    },
    {
      "cell_type": "code",
      "source": [
        "plt.plot(data_forecast, label= \"Longterm - forecast\")\n",
        "plt.plot(data_test[:350], label = \"Test set\")\n",
        "plt.plot(data_train[-100:], label = \"train set\")\n",
        "plt.title(\"50 unit forecast\")\n",
        "plt.legend()\n",
        "plt.show()"
      ],
      "metadata": {
        "colab": {
          "base_uri": "https://localhost:8080/",
          "height": 281
        },
        "id": "57JSWCIlHrNR",
        "outputId": "8e5dc87f-f2f9-45a6-9c65-f7e9df5cea73"
      },
      "execution_count": 48,
      "outputs": [
        {
          "output_type": "display_data",
          "data": {
            "text/plain": [
              "<Figure size 432x288 with 1 Axes>"
            ],
            "image/png": "[encoded data removed]"
          },
          "metadata": {
            "needs_background": "light"
          }
        }
      ]
    },
    {
      "cell_type": "markdown",
      "source": [
        "##You see, long term forecast is not as easy as short term forecast."
      ],
      "metadata": {
        "id": "UiSHx4tGLkxD"
      }
    }
  ]
}