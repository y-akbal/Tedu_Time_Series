{
  "nbformat": 4,
  "nbformat_minor": 0,
  "metadata": {
    "colab": {
      "provenance": []
    },
    "kernelspec": {
      "name": "python3",
      "display_name": "Python 3"
    },
    "language_info": {
      "name": "python"
    }
  },
  "cells": [
    {
      "cell_type": "markdown",
      "source": [
        "\n",
        "[![Open in Colab](https://colab.research.google.com/assets/colab-badge.svg)](https://colab.research.google.com/github/y-akbal/Tedu_Time_Series/blob/main/W10/W10P4.ipynb)\n"
      ],
      "metadata": {
        "id": "hIi4f8F27UMu"
      }
    },
    {
      "cell_type": "code",
      "execution_count": null,
      "metadata": {
        "id": "4o7xJtGSZf-s"
      },
      "outputs": [],
      "source": [
        "import os\n",
        "import seaborn as sns\n",
        "import matplotlib.pyplot as plt\n",
        "import numpy as np\n",
        "import pandas as pd\n",
        "import statsmodels\n",
        "import scipy"
      ]
    },
    {
      "cell_type": "code",
      "source": [
        "def download_data():  ### This dude will download the dataset from the directory directly!\n",
        "  import requests\n",
        "  url = \"https://raw.githubusercontent.com/y-akbal/Tedu_Time_Series/main/W10/TDG_data.csv\"\n",
        "  res = requests.get(url, allow_redirects=True)\n",
        "  with open('TDG_data.csv','wb') as file:\n",
        "    file.write(res.content)\n",
        "\n",
        "download_data()  "
      ],
      "metadata": {
        "id": "Fny8MTdE29hl"
      },
      "execution_count": null,
      "outputs": []
    },
    {
      "cell_type": "markdown",
      "source": [
        "Things to do\n",
        "\n",
        "0.   Read the csv file. \"pd.read_csv\"\n",
        "1.   See what kind of TS you are dealing with,\n",
        "2.   Fit some ARMA model or maybe (ARIMA model in the case of unit root),\n",
        "3.   Look at the residuals, see if  you fit the right model,\n",
        "4.   Once you convince yourself, then make sure that there is an ARCH effect,\n",
        "5.   Fit then an ARCH or GARCH model, to your data, determine the orders,\n",
        "6.   Check the standardized residuals to see if you have fitted the right model.\n",
        "\n"
      ],
      "metadata": {
        "id": "I1530rqg3OUM"
      }
    }
  ]
}